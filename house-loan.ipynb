{
 "cells": [
  {
   "metadata": {
    "ExecuteTime": {
     "end_time": "2025-03-15T11:00:18.702105Z",
     "start_time": "2025-03-15T11:00:16.381631Z"
    }
   },
   "cell_type": "code",
   "source": [
    "# Imports and global tolerance\n",
    "import mercury as mr\n",
    "import random\n",
    "import csv\n",
    "\n",
    "import pandas as pd\n",
    "import numpy as np\n",
    "import joblib\n",
    "import os\n",
    "\n",
    "import matplotlib.pyplot as plt\n",
    "from sklearn.preprocessing import MinMaxScaler\n",
    "from sklearn.ensemble import RandomForestRegressor\n",
    "from sklearn.metrics import mean_absolute_error, mean_squared_error, r2_score\n",
    "from sklearn.utils import shuffle\n",
    "from sklearn.model_selection import cross_val_score\n",
    "from sklearn.model_selection import KFold\n",
    "\n",
    "tolerance = 1e-7"
   ],
   "id": "ac77557155c0f917",
   "outputs": [],
   "execution_count": 3
  },
  {
   "metadata": {
    "collapsed": true,
    "ExecuteTime": {
     "end_time": "2025-03-15T11:00:19.345614Z",
     "start_time": "2025-03-15T11:00:18.812488Z"
    }
   },
   "cell_type": "code",
   "source": [
    "# User interface inputs\n",
    "show_code = mr.Checkbox(value=False, label=\"Show source code\")\n",
    "app = mr.App(\n",
    "    title=\"Loan House Calculation\",\n",
    "    description=\"Actuarial Mathematics\",\n",
    "    show_code=show_code.value,\n",
    "    continuous_update=True\n",
    ")\n",
    "\n",
    "admin_toggle = mr.Checkbox(value=False, label=\"Enable Admin Mode (Simulate Random Contracts)\")\n",
    "details_toggle = mr.Checkbox(value=False, label=\"Show detailed calculations\")\n",
    "_ = mr.Note(text=\"---\")\n",
    "\n",
    "if admin_toggle.value == True:\n",
    "    num_contracts = mr.Numeric(label=\"Number of Random Contracts\", value=50, min=1, max=30000)\n",
    "else:\n",
    "    age = mr.Numeric(label=\"Age (Years)\", value=22, min=18, max=100)\n",
    "    amount = mr.Numeric(label=\"Loan Amount\", min=0, value=150000, max=999999999999)\n",
    "    interest_rate = mr.Numeric(label=\"Yearly Interest Rate (%)\", value=2.5, min=0.0, max=100.0, step=0.1)\n",
    "    maturity = mr.Numeric(label=\"Maturity (Years)\", value=25, min=1, max=50)\n",
    "    single_premium_model = mr.File(label=\"Upload Single Premium Model\", max_file_size=\"50MB\")\n",
    "    annual_premium_model = mr.File(label=\"Upload Annual Premium Model\", max_file_size=\"50MB\")\n",
    "    scaler = mr.File(label=\"Upload Scaler\", max_file_size=\"50MB\")\n",
    "\n",
    "mortality_table = mr.Select(value = \"TD88-90 (France)\", choices = [\"TD88-90 (France)\", \"TH00-02 (France)\"], label = \"Select Mortality Table\")\n",
    "currency = mr.Select(value = \"EUR\", choices = [\"EUR\", \"USD\", \"GBP\"], label = \"Select Currency\")"
   ],
   "id": "initial_id",
   "outputs": [
    {
     "data": {
      "application/vnd.jupyter.widget-view+json": {
       "version_major": 2,
       "version_minor": 0,
       "model_id": "e0bda7885f4940a0bfd920353dcd9005"
      },
      "application/mercury+json": "{\n    \"widget\": \"Checkbox\",\n    \"value\": false,\n    \"label\": \"Show source code\",\n    \"model_id\": \"e0bda7885f4940a0bfd920353dcd9005\",\n    \"code_uid\": \"Checkbox.0.50.70.2-rand678752f7\",\n    \"url_key\": \"\",\n    \"disabled\": false,\n    \"hidden\": false\n}",
      "text/plain": [
       "mercury.Checkbox"
      ]
     },
     "metadata": {},
     "output_type": "display_data"
    },
    {
     "data": {
      "text/plain": [
       "mercury.App"
      ],
      "text/html": [
       "<h3>Mercury Application</h3><small>This output won't appear in the web app.</small>"
      ],
      "application/mercury+json": "{\n    \"widget\": \"App\",\n    \"title\": \"Loan House Calculation\",\n    \"description\": \"Actuarial Mathematics\",\n    \"show_code\": false,\n    \"show_prompt\": false,\n    \"output\": \"app\",\n    \"schedule\": \"\",\n    \"notify\": \"{}\",\n    \"continuous_update\": true,\n    \"static_notebook\": false,\n    \"show_sidebar\": true,\n    \"full_screen\": true,\n    \"allow_download\": true,\n    \"allow_share\": true,\n    \"stop_on_error\": false,\n    \"model_id\": \"mercury-app\",\n    \"code_uid\": \"App.0.50.110.3-randea1ad210\"\n}"
     },
     "metadata": {},
     "output_type": "display_data"
    },
    {
     "data": {
      "application/vnd.jupyter.widget-view+json": {
       "version_major": 2,
       "version_minor": 0,
       "model_id": "8f0a26718ade429092f5ffdaf4118a78"
      },
      "application/mercury+json": "{\n    \"widget\": \"Checkbox\",\n    \"value\": false,\n    \"label\": \"Enable Admin Mode (Simulate Random Contracts)\",\n    \"model_id\": \"8f0a26718ade429092f5ffdaf4118a78\",\n    \"code_uid\": \"Checkbox.0.50.70.10-rand165fd657\",\n    \"url_key\": \"\",\n    \"disabled\": false,\n    \"hidden\": false\n}",
      "text/plain": [
       "mercury.Checkbox"
      ]
     },
     "metadata": {},
     "output_type": "display_data"
    },
    {
     "data": {
      "application/vnd.jupyter.widget-view+json": {
       "version_major": 2,
       "version_minor": 0,
       "model_id": "01dc3d43d6944c06ad2b09e6438059de"
      },
      "application/mercury+json": "{\n    \"widget\": \"Checkbox\",\n    \"value\": false,\n    \"label\": \"Show detailed calculations\",\n    \"model_id\": \"01dc3d43d6944c06ad2b09e6438059de\",\n    \"code_uid\": \"Checkbox.0.50.70.11-rand5a44c89f\",\n    \"url_key\": \"\",\n    \"disabled\": false,\n    \"hidden\": false\n}",
      "text/plain": [
       "mercury.Checkbox"
      ]
     },
     "metadata": {},
     "output_type": "display_data"
    },
    {
     "data": {
      "application/mercury+json": "{\n    \"widget\": \"Note\",\n    \"value\": \"---\",\n    \"model_id\": \"Note.0.50.45.12-rand2795db41\",\n    \"code_uid\": \"Note.0.50.45.12-rand2795db41\"\n}",
      "text/markdown": "---",
      "text/plain": [
       "mercury.Note"
      ]
     },
     "metadata": {},
     "output_type": "display_data"
    },
    {
     "data": {
      "application/vnd.jupyter.widget-view+json": {
       "version_major": 2,
       "version_minor": 0,
       "model_id": "2b761a65dbec451db7c58e53e79c0271"
      },
      "application/mercury+json": "{\n    \"widget\": \"Numeric\",\n    \"value\": 22.0,\n    \"min\": 18.0,\n    \"max\": 100.0,\n    \"step\": 1.0,\n    \"label\": \"Age (Years)\",\n    \"model_id\": \"2b761a65dbec451db7c58e53e79c0271\",\n    \"code_uid\": \"Numeric.0.50.101.17-rand5ced8b6d\",\n    \"url_key\": \"\",\n    \"disabled\": false,\n    \"hidden\": false\n}",
      "text/plain": [
       "mercury.Numeric"
      ]
     },
     "metadata": {},
     "output_type": "display_data"
    },
    {
     "data": {
      "application/vnd.jupyter.widget-view+json": {
       "version_major": 2,
       "version_minor": 0,
       "model_id": "a6c4902b75fa47ce856646f6ae8be443"
      },
      "application/mercury+json": "{\n    \"widget\": \"Numeric\",\n    \"value\": 150000.0,\n    \"min\": 0.0,\n    \"max\": 999999999999.0,\n    \"step\": 1.0,\n    \"label\": \"Loan Amount\",\n    \"model_id\": \"a6c4902b75fa47ce856646f6ae8be443\",\n    \"code_uid\": \"Numeric.0.50.101.18-randc0d0ab4b\",\n    \"url_key\": \"\",\n    \"disabled\": false,\n    \"hidden\": false\n}",
      "text/plain": [
       "mercury.Numeric"
      ]
     },
     "metadata": {},
     "output_type": "display_data"
    },
    {
     "data": {
      "application/vnd.jupyter.widget-view+json": {
       "version_major": 2,
       "version_minor": 0,
       "model_id": "4faa93bd7ea54c209500c8fc105a701f"
      },
      "application/mercury+json": "{\n    \"widget\": \"Numeric\",\n    \"value\": 2.5,\n    \"min\": 0.0,\n    \"max\": 100.0,\n    \"step\": 0.1,\n    \"label\": \"Yearly Interest Rate (%)\",\n    \"model_id\": \"4faa93bd7ea54c209500c8fc105a701f\",\n    \"code_uid\": \"Numeric.0.50.101.19-rand933f9acf\",\n    \"url_key\": \"\",\n    \"disabled\": false,\n    \"hidden\": false\n}",
      "text/plain": [
       "mercury.Numeric"
      ]
     },
     "metadata": {},
     "output_type": "display_data"
    },
    {
     "data": {
      "application/vnd.jupyter.widget-view+json": {
       "version_major": 2,
       "version_minor": 0,
       "model_id": "892826bbe27b47b593ef391e563b83ee"
      },
      "application/mercury+json": "{\n    \"widget\": \"Numeric\",\n    \"value\": 25.0,\n    \"min\": 1.0,\n    \"max\": 50.0,\n    \"step\": 1.0,\n    \"label\": \"Maturity (Years)\",\n    \"model_id\": \"892826bbe27b47b593ef391e563b83ee\",\n    \"code_uid\": \"Numeric.0.50.101.20-randc4f67523\",\n    \"url_key\": \"\",\n    \"disabled\": false,\n    \"hidden\": false\n}",
      "text/plain": [
       "mercury.Numeric"
      ]
     },
     "metadata": {},
     "output_type": "display_data"
    },
    {
     "data": {
      "application/vnd.jupyter.widget-view+json": {
       "version_major": 2,
       "version_minor": 0,
       "model_id": "6a23167dd49042319efcfdaac8194703"
      },
      "application/mercury+json": "{\n    \"widget\": \"Select\",\n    \"value\": \"TD88-90 (France)\",\n    \"choices\": [\n        \"TD88-90 (France)\",\n        \"TH00-02 (France)\"\n    ],\n    \"label\": \"Select Mortality Table\",\n    \"model_id\": \"6a23167dd49042319efcfdaac8194703\",\n    \"code_uid\": \"Select.0.50.104.22-randa6bc0b8c\",\n    \"url_key\": \"\",\n    \"disabled\": false,\n    \"hidden\": false\n}",
      "text/plain": [
       "mercury.Select"
      ]
     },
     "metadata": {},
     "output_type": "display_data"
    },
    {
     "data": {
      "application/vnd.jupyter.widget-view+json": {
       "version_major": 2,
       "version_minor": 0,
       "model_id": "5e011fc7bcb7475e9d1c6163f8b325fb"
      },
      "application/mercury+json": "{\n    \"widget\": \"Select\",\n    \"value\": \"EUR\",\n    \"choices\": [\n        \"EUR\",\n        \"USD\",\n        \"GBP\"\n    ],\n    \"label\": \"Select Currency\",\n    \"model_id\": \"5e011fc7bcb7475e9d1c6163f8b325fb\",\n    \"code_uid\": \"Select.0.50.104.23-randcd95ea70\",\n    \"url_key\": \"\",\n    \"disabled\": false,\n    \"hidden\": false\n}",
      "text/plain": [
       "mercury.Select"
      ]
     },
     "metadata": {},
     "output_type": "display_data"
    }
   ],
   "execution_count": 4
  },
  {
   "metadata": {
    "ExecuteTime": {
     "end_time": "2025-03-15T11:00:19.390095Z",
     "start_time": "2025-03-15T11:00:19.358856Z"
    }
   },
   "cell_type": "code",
   "source": [
    "_ = mr.Note(text=\"---\")\n",
    "_ = mr.Note(\"Please fill out the inputs above and click _Apply_ or hit Enter to calculate the result.\")"
   ],
   "id": "f009ebb8c0842082",
   "outputs": [
    {
     "data": {
      "application/mercury+json": "{\n    \"widget\": \"Note\",\n    \"value\": \"---\",\n    \"model_id\": \"Note.0.50.45.1-rand34f3f44b\",\n    \"code_uid\": \"Note.0.50.45.1-rand34f3f44b\"\n}",
      "text/markdown": "---",
      "text/plain": [
       "mercury.Note"
      ]
     },
     "metadata": {},
     "output_type": "display_data"
    },
    {
     "data": {
      "application/mercury+json": "{\n    \"widget\": \"Note\",\n    \"value\": \"Please fill out the inputs above and click _Apply_ or hit Enter to calculate the result.\",\n    \"model_id\": \"Note.0.50.45.2-rand9a5fad4f\",\n    \"code_uid\": \"Note.0.50.45.2-rand9a5fad4f\"\n}",
      "text/markdown": "Please fill out the inputs above and click _Apply_ or hit Enter to calculate the result.",
      "text/plain": [
       "mercury.Note"
      ]
     },
     "metadata": {},
     "output_type": "display_data"
    }
   ],
   "execution_count": 5
  },
  {
   "metadata": {
    "ExecuteTime": {
     "end_time": "2025-03-15T11:00:19.411755Z",
     "start_time": "2025-03-15T11:00:19.404756Z"
    }
   },
   "cell_type": "code",
   "source": [
    "# Load mortality table\n",
    "def load_mortality_data(filename):\n",
    "    with open(filename, \"r\") as file:\n",
    "        reader = csv.reader(file)\n",
    "        next(reader)  # Skip the header\n",
    "        return {int(row[0]): int(row[1]) for row in reader}\n",
    "\n",
    "if mortality_table.value == \"TD88-90 (France)\":\n",
    "    mortality_data = load_mortality_data(\"TD88-90.csv\")\n",
    "elif mortality_table.value == \"TH00-02 (France)\":\n",
    "    mortality_data = load_mortality_data(\"TH00-02.csv\")"
   ],
   "id": "8f511ac672ff02f9",
   "outputs": [],
   "execution_count": 6
  },
  {
   "metadata": {
    "ExecuteTime": {
     "end_time": "2025-03-15T11:00:19.438063Z",
     "start_time": "2025-03-15T11:00:19.426685Z"
    }
   },
   "cell_type": "code",
   "source": [
    "# Calculation helper functions\n",
    "def annuity_factor(x, m, tech_rate):\n",
    "    act_sum = 0\n",
    "    for i in range(0, m):\n",
    "        act_sum += nex(x, i, tech_rate)\n",
    "    return act_sum\n",
    "\n",
    "def nex(x, n, tech_rate):\n",
    "    return npx(x, n) * techDF(n, tech_rate)\n",
    "\n",
    "def npx(x ,n):\n",
    "    return mortality_data[x+n] / mortality_data[x]\n",
    "\n",
    "def techDF(n, tech_rate):\n",
    "    return 1 / ((1 + tech_rate) ** n)\n",
    "\n",
    "def n_1qx(x, n):\n",
    "    return (mortality_data[x+n] - mortality_data[x+n+1]) / mortality_data[x]"
   ],
   "id": "35c7e534de64e263",
   "outputs": [],
   "execution_count": 7
  },
  {
   "metadata": {
    "ExecuteTime": {
     "end_time": "2025-03-15T11:00:19.487970Z",
     "start_time": "2025-03-15T11:00:19.475261Z"
    }
   },
   "cell_type": "code",
   "source": [
    "# Core logic\n",
    "def calculate_contract(p_age, p_maturity, p_interest, p_amount):\n",
    "    number_of_payments = int(p_maturity * 12) # input is in years\n",
    "    periodic_rate = p_interest / 12 / 100 # input is yearly + should be divided by 100\n",
    "    monthly_reimbursed_amount = (p_amount * periodic_rate) / (1 - (1 + periodic_rate) ** -number_of_payments)\n",
    "\n",
    "    remaining_amount = []\n",
    "    interest = []\n",
    "    amortization = []\n",
    "\n",
    "    for i in range(0, number_of_payments + 1):\n",
    "        # Special cases on the 0 month\n",
    "        if i == 0:\n",
    "            remaining_amount.append(p_amount)\n",
    "            interest.append(0)\n",
    "            amortization.append(0)\n",
    "            continue\n",
    "\n",
    "        # Remaining amount (end of the year) Ck\n",
    "        # Using tolerance for the last element (not perfect zero)\n",
    "        calculated_value = (1 + periodic_rate) * remaining_amount[-1] - monthly_reimbursed_amount\n",
    "        remaining_amount.append(0 if calculated_value < tolerance else calculated_value)\n",
    "\n",
    "        # Interest Ik\n",
    "        interest.append(remaining_amount[i-1] * periodic_rate)\n",
    "        # Amortization Ak\n",
    "        amortization.append(monthly_reimbursed_amount - interest[i])\n",
    "\n",
    "    total_reimbursement_amount = sum(amortization)\n",
    "    cost_of_loan = sum(interest)\n",
    "\n",
    "    # Yearly payment calculations\n",
    "    k = 0\n",
    "    discounted_amount_in_risks = []\n",
    "\n",
    "    for i in range(1, len(remaining_amount)):\n",
    "        if i % 12 == 0:\n",
    "            benefit_akprime = remaining_amount[i]\n",
    "            discount_factor = (1 / (1 + p_interest / 100)) ** (k+1)\n",
    "            probability = (mortality_data[p_age+k] - mortality_data[p_age+k+1]) / mortality_data[p_age]\n",
    "            discounted_amount_in_risk = benefit_akprime * discount_factor * probability\n",
    "            discounted_amount_in_risks.append(discounted_amount_in_risk)\n",
    "            k += 1\n",
    "    total_discounted_amount_in_risk = sum(discounted_amount_in_risks)\n",
    "    single_premium = total_discounted_amount_in_risk\n",
    "\n",
    "    annuity_factor_calc = annuity_factor(int(p_age), int(p_maturity), p_interest / 100)\n",
    "    annual_premium = single_premium / annuity_factor_calc\n",
    "\n",
    "    # Monthly payment calculations\n",
    "    monthly_annuity_factor = annuity_factor_calc - ((12 - 1 )/( 2 * 12)) * (1 - nex(p_age, p_maturity, p_interest / 100))\n",
    "    monthly_annual_premium = single_premium / monthly_annuity_factor\n",
    "    monthly_premium = monthly_annual_premium / 12\n",
    "\n",
    "    return single_premium, annual_premium, annuity_factor_calc, monthly_premium, monthly_annual_premium, monthly_annuity_factor, number_of_payments, periodic_rate, monthly_reimbursed_amount, remaining_amount, interest, amortization, total_reimbursement_amount, cost_of_loan\n"
   ],
   "id": "6dfaf0f40ab711d",
   "outputs": [],
   "execution_count": 8
  },
  {
   "metadata": {
    "ExecuteTime": {
     "end_time": "2025-03-15T11:00:19.511490Z",
     "start_time": "2025-03-15T11:00:19.495493Z"
    }
   },
   "cell_type": "code",
   "source": [
    "# Simulation helper functions\n",
    "def evaluate_model(y_test, y_pred, target_name):\n",
    "    print(f\"{target_name} Prediction Performance:\")\n",
    "    print(f\"MAE: {mean_absolute_error(y_test, y_pred):.2f}\")\n",
    "    print(f\"MSE: {mean_squared_error(y_test, y_pred):.2f}\")\n",
    "    print(f\"R² Score: {r2_score(y_test, y_pred):.4f}\\n\")\n",
    "\n",
    "def plot_learning_curve():\n",
    "    sizes = list(range(50, len(X_scaled), 50))\n",
    "\n",
    "    r2_scores_y1, r2_scores_y2 = [], []\n",
    "    mae_scores_y1, mae_scores_y2 = [], []\n",
    "    rmse_scores_y1, rmse_scores_y2 = [], []\n",
    "\n",
    "    hyperparameters = {\n",
    "        \"n_estimators\": 200,\n",
    "        \"max_depth\": 10,\n",
    "        \"min_samples_split\": 10,\n",
    "        \"min_samples_leaf\": 2,\n",
    "        \"random_state\": 42\n",
    "    }\n",
    "\n",
    "    for size in sizes:\n",
    "        X_sample, y1_sample, y2_sample = X_scaled[:size], y1[:size], y2[:size]\n",
    "\n",
    "        if size < 50:\n",
    "            continue\n",
    "\n",
    "        model1_cv = RandomForestRegressor(n_estimators=hyperparameters[\"n_estimators\"],\n",
    "                                          max_depth=hyperparameters[\"max_depth\"],\n",
    "                                          min_samples_split=hyperparameters[\"min_samples_split\"],\n",
    "                                          min_samples_leaf=hyperparameters[\"min_samples_leaf\"],\n",
    "                                          random_state=hyperparameters[\"random_state\"])\n",
    "\n",
    "        model2_cv = RandomForestRegressor(n_estimators=hyperparameters[\"n_estimators\"],\n",
    "                                          max_depth=hyperparameters[\"max_depth\"],\n",
    "                                          min_samples_split=hyperparameters[\"min_samples_split\"],\n",
    "                                          min_samples_leaf=hyperparameters[\"min_samples_leaf\"],\n",
    "                                          random_state=hyperparameters[\"random_state\"])\n",
    "\n",
    "        model1_cv.fit(X_sample, y1_sample)\n",
    "        model2_cv.fit(X_sample, y2_sample)\n",
    "\n",
    "        y1_pred_sample = model1_cv.predict(X_sample)\n",
    "        y2_pred_sample = model2_cv.predict(X_sample)\n",
    "\n",
    "        r2_scores_y1.append(r2_score(y1_sample, y1_pred_sample))\n",
    "        r2_scores_y2.append(r2_score(y2_sample, y2_pred_sample))\n",
    "\n",
    "        mae_scores_y1.append(mean_absolute_error(y1_sample, y1_pred_sample))\n",
    "        mae_scores_y2.append(mean_absolute_error(y2_sample, y2_pred_sample))\n",
    "\n",
    "        rmse_scores_y1.append(np.sqrt(mean_squared_error(y1_sample, y1_pred_sample)))\n",
    "        rmse_scores_y2.append(np.sqrt(mean_squared_error(y2_sample, y2_pred_sample)))\n",
    "\n",
    "    if not sizes:\n",
    "        print(\"Error: Not enough data points to plot the learning curve.\")\n",
    "        return\n",
    "\n",
    "    print(\"RandomForestRegressor Model Hyperparameters:\")\n",
    "    for param, value in hyperparameters.items():\n",
    "        print(f\"{param}: {value}\")\n",
    "\n",
    "    print(\"\\nTraining and Evaluation Results:\")\n",
    "\n",
    "    fig, ax1 = plt.subplots(figsize=(12, 6))\n",
    "    ax1.set_xlabel(\"Dataset Size\")\n",
    "    ax1.set_ylabel(\"R² Score\", color=\"tab:blue\")\n",
    "    ax1.plot(sizes, r2_scores_y1, marker=\"o\", label=\"Single Premium R²\", color=\"blue\")\n",
    "    ax1.plot(sizes, r2_scores_y2, marker=\"o\", label=\"Annual Premium R²\", color=\"cyan\")\n",
    "    ax1.axhline(y=0.90, color=\"r\", linestyle=\"--\", label=\"90% Threshold\")\n",
    "    ax1.legend(loc=\"upper left\")\n",
    "    ax1.tick_params(axis=\"y\", labelcolor=\"tab:blue\")\n",
    "    plt.title(\"Learning Curve: R² vs. Dataset Size\")\n",
    "    plt.grid()\n",
    "    plt.show()\n",
    "\n",
    "    fig, ax2 = plt.subplots(figsize=(12, 6))\n",
    "    ax2.set_xlabel(\"Dataset Size\")\n",
    "    ax2.set_ylabel(\"MAE\", color=\"tab:orange\")\n",
    "    ax2.plot(sizes, mae_scores_y1, marker=\"s\", linestyle=\"dashed\", color=\"orange\", label=\"Single Premium MAE\")\n",
    "    ax2.plot(sizes, mae_scores_y2, marker=\"s\", linestyle=\"dashed\", color=\"red\", label=\"Annual Premium MAE\")\n",
    "    ax2.legend(loc=\"upper left\")\n",
    "    ax2.tick_params(axis=\"y\", labelcolor=\"tab:orange\")\n",
    "    plt.title(\"Learning Curve: MAE vs. Dataset Size\")\n",
    "    plt.grid()\n",
    "    plt.show()\n",
    "\n",
    "    fig, ax3 = plt.subplots(figsize=(12, 6))\n",
    "    ax3.set_xlabel(\"Dataset Size\")\n",
    "    ax3.set_ylabel(\"RMSE\", color=\"tab:green\")\n",
    "    ax3.plot(sizes, rmse_scores_y1, marker=\"^\", linestyle=\"dotted\", color=\"brown\", label=\"Single Premium RMSE\")\n",
    "    ax3.plot(sizes, rmse_scores_y2, marker=\"^\", linestyle=\"dotted\", color=\"purple\", label=\"Annual Premium RMSE\")\n",
    "    ax3.legend(loc=\"upper left\")\n",
    "    ax3.tick_params(axis=\"y\", labelcolor=\"tab:green\")\n",
    "    plt.title(\"Learning Curve: RMSE vs. Dataset Size\")\n",
    "    plt.grid()\n",
    "    plt.show()\n",
    "\n",
    "def save_trained_models(model1, model2, scaler, output_dir):\n",
    "    model1_path = os.path.join(output_dir.path, \"single_premium_model.pkl\")\n",
    "    model2_path = os.path.join(output_dir.path, \"annual_premium_model.pkl\")\n",
    "    scaler_path = os.path.join(output_dir.path, \"scaler.pkl\")\n",
    "\n",
    "    joblib.dump(model1, model1_path)\n",
    "    joblib.dump(model2, model2_path)\n",
    "    joblib.dump(scaler, scaler_path)\n",
    "\n",
    "    print(\"✅ Models and scaler saved successfully!\")"
   ],
   "id": "59f9ace54af36623",
   "outputs": [],
   "execution_count": 9
  },
  {
   "metadata": {
    "ExecuteTime": {
     "end_time": "2025-03-15T12:45:47.953646Z",
     "start_time": "2025-03-15T12:45:47.913391Z"
    }
   },
   "cell_type": "code",
   "source": [
    "# If admin simulation\n",
    "if admin_toggle.value == True:\n",
    "    random_contracts = []\n",
    "\n",
    "    ages = list(mortality_data.keys())\n",
    "    lx_values = list(mortality_data.values())\n",
    "\n",
    "    # Normalize lx values to create a probability distribution\n",
    "    total_lx = sum(lx_values)\n",
    "    probabilities = [lx / total_lx for lx in lx_values]\n",
    "\n",
    "    for _ in range(int(num_contracts.value)):\n",
    "        age = random.choices(ages, probabilities)[0]\n",
    "        loan_amount = random.randint(1000, 200000)\n",
    "        interest_rate = random.uniform(0.5, 12.0)\n",
    "        maturity = random.randint(1, 100 - min(age, 99)) # upper do not to overflow the mortality table\n",
    "\n",
    "        single_premium, annual_premium, annuity_factor_calc, monthly_premium, monthly_annual_premium, monthly_annuity_factor, number_of_payments, periodic_rate, monthly_reimbursed_amount, remaining_amount, interest, amortization, total_reimbursement_amount, cost_of_loan = calculate_contract(age, maturity, interest_rate, loan_amount)\n",
    "\n",
    "        contract = {\n",
    "            'age': age,\n",
    "            'loan_amount': loan_amount,\n",
    "            'interest_rate': interest_rate,\n",
    "            'maturity': maturity,\n",
    "\n",
    "            'annuity_factor_calc': annuity_factor_calc,\n",
    "            'monthly_premium': monthly_premium,\n",
    "            'monthly_annual_premium': monthly_annual_premium,\n",
    "            'monthly_annuity_factor': monthly_annuity_factor,\n",
    "            'number_of_payments': number_of_payments,\n",
    "            'periodic_rate': periodic_rate,\n",
    "            'monthly_reimbursed_amount': monthly_reimbursed_amount,\n",
    "            'final_remaining_amount': remaining_amount[-1],\n",
    "            'total_interest_paid': sum(interest),\n",
    "            'total_amortization': sum(amortization),\n",
    "            'total_reimbursement_amount': total_reimbursement_amount,\n",
    "            'cost_of_loan': cost_of_loan,\n",
    "\n",
    "            'single_premium': single_premium,\n",
    "            'annual_premium': annual_premium\n",
    "        }\n",
    "        random_contracts.append(contract)\n",
    "\n",
    "    df = pd.DataFrame(random_contracts)\n",
    "    df = shuffle(df, random_state=42).reset_index(drop=True)\n",
    "\n",
    "    X = df[['age', 'loan_amount', 'interest_rate', 'maturity',\n",
    "        'annuity_factor_calc', 'monthly_premium', 'monthly_annual_premium', 'monthly_annuity_factor',\n",
    "        'number_of_payments', 'periodic_rate', 'monthly_reimbursed_amount', 'final_remaining_amount',\n",
    "        'total_interest_paid', 'total_amortization', 'total_reimbursement_amount', 'cost_of_loan']]\n",
    "\n",
    "    y1 = df['single_premium']\n",
    "    y2 = df['annual_premium']\n",
    "\n",
    "    scaler = MinMaxScaler()\n",
    "    X_scaled = scaler.fit_transform(X)\n",
    "\n",
    "    model1 = RandomForestRegressor(n_estimators=200, max_depth=20, min_samples_split=2, min_samples_leaf=2, random_state=42)\n",
    "    model2 = RandomForestRegressor(n_estimators=300, max_depth=20, min_samples_split=2, min_samples_leaf=2, random_state=42)\n",
    "\n",
    "    cv = KFold(n_splits=5, shuffle=True, random_state=42)\n",
    "    cv_scores1 = cross_val_score(model1, X_scaled, y1, cv=cv, scoring='neg_mean_squared_error')\n",
    "    print(f\"Cross-validated MSE for Single Premium: {-cv_scores1.mean():.2f}\")\n",
    "\n",
    "    cv_scores2 = cross_val_score(model2, X_scaled, y2, cv=cv, scoring='neg_mean_squared_error')\n",
    "    print(f\"Cross-validated MSE for Annual Premium: {-cv_scores2.mean():.2f}\")\n",
    "\n",
    "    model1.fit(X_scaled, y1)\n",
    "    model2.fit(X_scaled, y2)\n",
    "\n",
    "    y1_pred = model1.predict(X_scaled)\n",
    "    y2_pred = model2.predict(X_scaled)\n",
    "\n",
    "    evaluate_model(y1, y1_pred, \"Single Premium\")\n",
    "    evaluate_model(y2, y2_pred, \"Annual Premium\")\n",
    "\n",
    "    plot_learning_curve()\n",
    "    X_original = scaler.inverse_transform(X_scaled)\n",
    "\n",
    "    print(\"\\nExact Predictions for the first 10 contracts:\\n\")\n",
    "    for i in range(min(10, len(y1_pred))):\n",
    "        age = int(X_original[i][0])\n",
    "        loan_amount = int(X_original[i][1])\n",
    "        interest_rate = X_original[i][2]\n",
    "        maturity = int(X_original[i][3])\n",
    "\n",
    "        print(f\"    Age: {age}\")\n",
    "        print(f\"    Loan Amount: {loan_amount}\")\n",
    "        print(f\"    Interest Rate: {interest_rate:.2f}%\")\n",
    "        print(f\"    Maturity: {maturity}\")\n",
    "        print(f\"    Actual Single Premium: {y1.iloc[i]:,.2f}\")\n",
    "        print(f\"    Actual Annual Premium: {y2.iloc[i]:,.2f}\")\n",
    "        print(f\"    Predicted Single Premium: {y1_pred[i]:,.2f}\")\n",
    "        print(f\"    Predicted Annual Premium: {y2_pred[i]:,.2f}\")\n",
    "        print(\"-\" * 50)\n",
    "\n",
    "    # Save the models\n",
    "    output_dir = mr.OutputDir()\n",
    "    save_trained_models(model1, model2, scaler, output_dir)\n",
    "\n",
    "    mr.Stop()\n",
    "else:\n",
    "    if age and age.value + maturity.value > 100:\n",
    "        mr.Markdown(text=f'#<font color=\"red\">ERROR: With these values no house loan is available. Please check your inputs.</font>')\n",
    "        mr.Stop()"
   ],
   "id": "fdf560a095f292ba",
   "outputs": [],
   "execution_count": 16
  },
  {
   "metadata": {
    "ExecuteTime": {
     "end_time": "2025-03-15T11:00:19.567027Z",
     "start_time": "2025-03-15T11:00:19.551010Z"
    }
   },
   "cell_type": "code",
   "source": [
    "# Stop plotting if it is simulation\n",
    "if admin_toggle.value == True:\n",
    "    mr.Stop()\n",
    "\n",
    "single_premium, annual_premium, annuity_factor_calc, monthly_premium, monthly_annual_premium, monthly_annuity_factor, number_of_payments, periodic_rate, monthly_reimbursed_amount, remaining_amount, interest, amortization, total_reimbursement_amount, cost_of_loan = calculate_contract(age.value, maturity.value, interest_rate.value, amount.value)\n",
    "\n",
    "colors = [\"#F8F9FA\", \"green\", \"#FCE700\", \"#00F5FF\"]\n",
    "mr.Markdown(text=f'#<font color=\"black\">Yearly Payment</font>')\n",
    "mr.NumberBox([\n",
    "    mr.NumberBox(data=float(f\"{single_premium:.2f}\"), title=f\"Single premium ({currency.value})\", background_color=colors[0], border_color=colors[1], data_color=colors[1], title_color=colors[1]),\n",
    "    mr.NumberBox(data=float(f\"{annual_premium:.2f}\"), title=f\"Annual premium ({currency.value})\", background_color=colors[0], border_color=colors[1], data_color=colors[1], title_color=colors[1]),\n",
    "    mr.NumberBox(data=float(f\"{annuity_factor_calc:.3f}\"), title=\"Annuity factor\")\n",
    "])"
   ],
   "id": "486108e24b2218f5",
   "outputs": [
    {
     "data": {
      "text/plain": [
       "<IPython.core.display.Markdown object>"
      ],
      "text/markdown": "#<font color=\"black\">Yearly Payment</font>"
     },
     "metadata": {},
     "output_type": "display_data"
    },
    {
     "data": {
      "text/plain": [
       "<widgets.numberbox.NumberBox at 0x2928e4b7740>"
      ],
      "text/html": [
       "<style scoped>\n",
       "        .numberbox-container {\n",
       "        width: 100%;\n",
       "        display: flex;\n",
       "        flex-direction: row;\n",
       "        }\n",
       "        @media (max-width: 800px) {\n",
       "        .numberbox-container {\n",
       "            flex-direction: column;\n",
       "        }\n",
       "        }\n",
       "        </style><div class=\"numberbox-container\" style=\"display: flex; background: #fff;\">\n",
       "<div style=\"text-align: center; width: 100%; border: 1px solid green; margin-right: 15px; margin-top: 15px; padding-top: 40px; padding-bottom: 30px; background: #F8F9FA; border-radius:5px\">\n",
       "  <span style=\"font-size: 4em; color: green; font-family: monospace; \">2,914.63</span>\n",
       "  \n",
       "  <span style=\"font-size: 2em; color: green; display: block; padding-top: 20px; font-family: monospace; line-height: 1.3em;\">Single premium (EUR)</span>\n",
       "</div>\n",
       "  \n",
       "<div style=\"text-align: center; width: 100%; border: 1px solid green; margin-right: 15px; margin-top: 15px; padding-top: 40px; padding-bottom: 30px; background: #F8F9FA; border-radius:5px\">\n",
       "  <span style=\"font-size: 4em; color: green; font-family: monospace; \">157.39</span>\n",
       "  \n",
       "  <span style=\"font-size: 2em; color: green; display: block; padding-top: 20px; font-family: monospace; line-height: 1.3em;\">Annual premium (EUR)</span>\n",
       "</div>\n",
       "  \n",
       "<div style=\"text-align: center; width: 100%; border: 1px solid lightgray; margin-right: 0px; margin-top: 15px; padding-top: 40px; padding-bottom: 30px; background: white; border-radius:5px\">\n",
       "  <span style=\"font-size: 4em; color: black; font-family: monospace; \">18.518</span>\n",
       "  \n",
       "  <span style=\"font-size: 2em; color: gray; display: block; padding-top: 20px; font-family: monospace; line-height: 1.3em;\">Annuity factor</span>\n",
       "</div>\n",
       "  </div>"
      ]
     },
     "execution_count": 11,
     "metadata": {},
     "output_type": "execute_result"
    }
   ],
   "execution_count": 11
  },
  {
   "metadata": {
    "ExecuteTime": {
     "end_time": "2025-03-15T15:18:50.876195Z",
     "start_time": "2025-03-15T15:18:50.559382Z"
    }
   },
   "cell_type": "code",
   "source": [
    "if single_premium_model.filepath and annual_premium_model.filepath and scaler.filepath:\n",
    "    single_premium, annual_premium, annuity_factor_calc, monthly_premium, monthly_annual_premium, monthly_annuity_factor, number_of_payments, periodic_rate, monthly_reimbursed_amount, remaining_amount, interest, amortization, total_reimbursement_amount, cost_of_loan = calculate_contract(age.value, maturity.value, interest_rate.value, amount.value)\n",
    "\n",
    "    model1 = joblib.load(single_premium_model.filepath)\n",
    "    model2 = joblib.load(annual_premium_model.filepath)\n",
    "    scaler = joblib.load(scaler.filepath)\n",
    "\n",
    "    input_data = np.array([[age.value, amount.value, interest_rate.value, maturity.value, annuity_factor_calc, monthly_premium, monthly_annual_premium, monthly_annuity_factor, number_of_payments, periodic_rate, monthly_reimbursed_amount, remaining_amount[-1], sum(interest), sum(amortization), total_reimbursement_amount, cost_of_loan]])\n",
    "    column_names = scaler.feature_names_in_\n",
    "    input_data_df = pd.DataFrame(input_data, columns=column_names)\n",
    "\n",
    "    input_scaled = scaler.transform(input_data_df)\n",
    "    single_premium_prediction = model1.predict(input_scaled)\n",
    "    annual_premium_prediction = model2.predict(input_scaled)\n",
    "\n",
    "    mr.Markdown(text=f'#<font color=\"black\">Predicted values by model</font>')\n",
    "    mr.Markdown(text=f'###<font color=\"black\">Predicted Monthly Premium: {currency.value} {single_premium_prediction[0]:.2f} </font>')\n",
    "    mr.Markdown(text=f'###<font color=\"black\">Monthly Premium Diff: {(abs(single_premium - single_premium_prediction[0]) / single_premium) * 100:.2f}%</font>')\n",
    "    mr.Markdown(text=f'###<font color=\"black\">Predicted Annual Premium: {currency.value} {annual_premium_prediction[0]:.2f} </font>')\n",
    "    mr.Markdown(text=f'###<font color=\"black\">Predicted Annual Premium Diff: {(abs(annual_premium - annual_premium_prediction[0]) / annual_premium) * 100:.2f}%</font>')\n"
   ],
   "id": "9be6b5504a79548a",
   "outputs": [
    {
     "ename": "NameError",
     "evalue": "name 'single_premium_model' is not defined",
     "output_type": "error",
     "traceback": [
      "\u001B[1;31m---------------------------------------------------------------------------\u001B[0m",
      "\u001B[1;31mNameError\u001B[0m                                 Traceback (most recent call last)",
      "Cell \u001B[1;32mIn[17], line 1\u001B[0m\n\u001B[1;32m----> 1\u001B[0m \u001B[38;5;28;01mif\u001B[39;00m \u001B[43msingle_premium_model\u001B[49m\u001B[38;5;241m.\u001B[39mfilepath \u001B[38;5;129;01mand\u001B[39;00m annual_premium_model\u001B[38;5;241m.\u001B[39mfilepath \u001B[38;5;129;01mand\u001B[39;00m scaler\u001B[38;5;241m.\u001B[39mfilepath:\n\u001B[0;32m      3\u001B[0m     single_premium, annual_premium, annuity_factor_calc, monthly_premium, monthly_annual_premium, monthly_annuity_factor, number_of_payments, periodic_rate, monthly_reimbursed_amount, remaining_amount, interest, amortization, total_reimbursement_amount, cost_of_loan \u001B[38;5;241m=\u001B[39m calculate_contract(age\u001B[38;5;241m.\u001B[39mvalue, maturity\u001B[38;5;241m.\u001B[39mvalue, interest_rate\u001B[38;5;241m.\u001B[39mvalue, amount\u001B[38;5;241m.\u001B[39mvalue)\n\u001B[0;32m      5\u001B[0m     model1 \u001B[38;5;241m=\u001B[39m joblib\u001B[38;5;241m.\u001B[39mload(single_premium_model\u001B[38;5;241m.\u001B[39mfilepath)\n",
      "\u001B[1;31mNameError\u001B[0m: name 'single_premium_model' is not defined"
     ]
    }
   ],
   "execution_count": 17
  },
  {
   "metadata": {
    "ExecuteTime": {
     "end_time": "2025-03-15T11:00:19.595659Z",
     "start_time": "2025-03-15T11:00:19.583371Z"
    }
   },
   "cell_type": "code",
   "source": [
    "mr.Markdown(text=f'#<font color=\"black\">Monthly Payment</font>')\n",
    "mr.NumberBox([\n",
    "    mr.NumberBox(data=float(f\"{monthly_premium:.2f}\"), title=f\"Monthly premium ({currency.value})\"),\n",
    "    mr.NumberBox(data=float(f\"{monthly_annual_premium:.2f}\"), title=f\"Annual premium ({currency.value})\"),\n",
    "    mr.NumberBox(data=float(f\"{monthly_annuity_factor:.3f}\"), title=\"Annuity factor\")\n",
    "])"
   ],
   "id": "860ca544a9cd0aba",
   "outputs": [
    {
     "data": {
      "text/plain": [
       "<IPython.core.display.Markdown object>"
      ],
      "text/markdown": "#<font color=\"black\">Monthly Payment</font>"
     },
     "metadata": {},
     "output_type": "display_data"
    },
    {
     "data": {
      "text/plain": [
       "<widgets.numberbox.NumberBox at 0x2928e4b5d90>"
      ],
      "text/html": [
       "<style scoped>\n",
       "        .numberbox-container {\n",
       "        width: 100%;\n",
       "        display: flex;\n",
       "        flex-direction: row;\n",
       "        }\n",
       "        @media (max-width: 800px) {\n",
       "        .numberbox-container {\n",
       "            flex-direction: column;\n",
       "        }\n",
       "        }\n",
       "        </style><div class=\"numberbox-container\" style=\"display: flex; background: #fff;\">\n",
       "<div style=\"text-align: center; width: 100%; border: 1px solid lightgray; margin-right: 15px; margin-top: 15px; padding-top: 40px; padding-bottom: 30px; background: white; border-radius:5px\">\n",
       "  <span style=\"font-size: 4em; color: black; font-family: monospace; \">13.28</span>\n",
       "  \n",
       "  <span style=\"font-size: 2em; color: gray; display: block; padding-top: 20px; font-family: monospace; line-height: 1.3em;\">Monthly premium (EUR)</span>\n",
       "</div>\n",
       "  \n",
       "<div style=\"text-align: center; width: 100%; border: 1px solid lightgray; margin-right: 15px; margin-top: 15px; padding-top: 40px; padding-bottom: 30px; background: white; border-radius:5px\">\n",
       "  <span style=\"font-size: 4em; color: black; font-family: monospace; \">159.33</span>\n",
       "  \n",
       "  <span style=\"font-size: 2em; color: gray; display: block; padding-top: 20px; font-family: monospace; line-height: 1.3em;\">Annual premium (EUR)</span>\n",
       "</div>\n",
       "  \n",
       "<div style=\"text-align: center; width: 100%; border: 1px solid lightgray; margin-right: 0px; margin-top: 15px; padding-top: 40px; padding-bottom: 30px; background: white; border-radius:5px\">\n",
       "  <span style=\"font-size: 4em; color: black; font-family: monospace; \">18.293</span>\n",
       "  \n",
       "  <span style=\"font-size: 2em; color: gray; display: block; padding-top: 20px; font-family: monospace; line-height: 1.3em;\">Annuity factor</span>\n",
       "</div>\n",
       "  </div>"
      ]
     },
     "execution_count": 12,
     "metadata": {},
     "output_type": "execute_result"
    }
   ],
   "execution_count": 12
  },
  {
   "metadata": {
    "ExecuteTime": {
     "end_time": "2025-03-15T11:00:19.638667Z",
     "start_time": "2025-03-15T11:00:19.618501Z"
    }
   },
   "cell_type": "code",
   "source": [
    "# Balance sheet for year 1\n",
    "# Sum of Assets and Liability should be equal\n",
    "\n",
    "# Assets\n",
    "balance_sheet_annual_premium = annual_premium\n",
    "balance_sheet_interest = balance_sheet_annual_premium * interest_rate.value / 100\n",
    "balance_sheet_sum_of_assets = balance_sheet_annual_premium + balance_sheet_interest\n",
    "\n",
    "# Liability\n",
    "balance_sheet_claims = remaining_amount[12] * (1 - mortality_data[age.value + 1 ] / mortality_data[age.value])\n",
    "balance_sheet_recurrence = (0 + balance_sheet_annual_premium - remaining_amount[12] * (1 / (1 + interest_rate.value / 100)) * n_1qx(age.value+12/12-1, 0)) / ((1 / (1 + interest_rate.value / 100)) * (1 -  n_1qx(age.value+12/12-1, 0)))\n",
    "balance_sheet_reserves = balance_sheet_recurrence * mortality_data[age.value + 1 ] / mortality_data[age.value]\n",
    "balance_sheet_sum_of_liabilities = balance_sheet_claims + balance_sheet_reserves\n",
    "\n",
    "# Validation check: assets should be equal to liabilities\n",
    "if balance_sheet_sum_of_assets - balance_sheet_sum_of_liabilities > tolerance:\n",
    "    mr.Markdown(text=f'#<font color=\"red\">ERROR: The difference between the assets and the liabilities are greater than the tolerance.</font>')\n",
    "\n",
    "mr.Markdown(text=f'#<font color=\"black\">Balance Sheet for Year 1</font>')\n",
    "\n",
    "df = pd.DataFrame(\n",
    "    {\n",
    "        \"Assets\": [\"Annual Premium*\", \"Interest (financial income)\", \"Opening\", \"Sum of Assets\"],\n",
    "        \"Assets Value\": [\n",
    "            f\"{float(balance_sheet_annual_premium):.2f} {currency.value}\",\n",
    "            f\"{float(balance_sheet_interest):.2f} {currency.value}\",\n",
    "            f\"{float(0):.2f} {currency.value}\",\n",
    "            f\"{float(balance_sheet_sum_of_assets):.2f} {currency.value}\"\n",
    "        ],\n",
    "        \"Liability\": [\"Claims\", \"Premium Reserves\", \"\", \"Sum of Liabilities\"],\n",
    "        \"Liability Value\": [\n",
    "            f\"{float(balance_sheet_claims):.2f} {currency.value}\",\n",
    "            f\"{float(balance_sheet_reserves):.2f} {currency.value}\",\n",
    "            \"\",\n",
    "            f\"{float(balance_sheet_sum_of_liabilities):.2f} {currency.value}\"\n",
    "        ]\n",
    "    }\n",
    ")\n",
    "\n",
    "mr.Table(data=df, width=\"150px\", text_align=\"left\")"
   ],
   "id": "bd5de0c3e381251a",
   "outputs": [
    {
     "data": {
      "text/plain": [
       "<IPython.core.display.Markdown object>"
      ],
      "text/markdown": "#<font color=\"black\">Balance Sheet for Year 1</font>"
     },
     "metadata": {},
     "output_type": "display_data"
    },
    {
     "data": {
      "text/plain": [
       "<IPython.core.display.HTML object>"
      ],
      "text/html": [
       "<table id=\"itables_bcaab009_838f_4748_ac86_37caca2675cc\" class=\"display cell-border\" data-quarto-disable-processing=\"true\" style=\"table-layout:auto;width:auto;margin:auto;caption-side:bottom\">\n",
       "<thead>\n",
       "    <tr style=\"text-align: right;\">\n",
       "      \n",
       "      <th>Assets</th>\n",
       "      <th>Assets Value</th>\n",
       "      <th>Liability</th>\n",
       "      <th>Liability Value</th>\n",
       "    </tr>\n",
       "  </thead><tbody><tr>\n",
       "<td style=\"vertical-align:middle; text-align:left\">\n",
       "<a href=https://mwouts.github.io/itables/><svg class=\"main-svg\" xmlns=\"http://www.w3.org/2000/svg\" xmlns:xlink=\"http://www.w3.org/1999/xlink\"\n",
       "width=\"64\" viewBox=\"0 0 500 400\" style=\"font-family: 'Droid Sans', sans-serif;\">\n",
       "    <g style=\"fill:#d9d7fc\">\n",
       "        <path d=\"M100,400H500V357H100Z\" />\n",
       "        <path d=\"M100,300H400V257H100Z\" />\n",
       "        <path d=\"M0,200H400V157H0Z\" />\n",
       "        <path d=\"M100,100H500V57H100Z\" />\n",
       "        <path d=\"M100,350H500V307H100Z\" />\n",
       "        <path d=\"M100,250H400V207H100Z\" />\n",
       "        <path d=\"M0,150H400V107H0Z\" />\n",
       "        <path d=\"M100,50H500V7H100Z\" />\n",
       "    </g>\n",
       "    <g style=\"fill:#1a1366;stroke:#1a1366;\">\n",
       "   <rect x=\"100\" y=\"7\" width=\"400\" height=\"43\">\n",
       "    <animate\n",
       "      attributeName=\"width\"\n",
       "      values=\"0;400;0\"\n",
       "      dur=\"5s\"\n",
       "      repeatCount=\"indefinite\" />\n",
       "      <animate\n",
       "      attributeName=\"x\"\n",
       "      values=\"100;100;500\"\n",
       "      dur=\"5s\"\n",
       "      repeatCount=\"indefinite\" />\n",
       "  </rect>\n",
       "        <rect x=\"0\" y=\"107\" width=\"400\" height=\"43\">\n",
       "    <animate\n",
       "      attributeName=\"width\"\n",
       "      values=\"0;400;0\"\n",
       "      dur=\"3.5s\"\n",
       "      repeatCount=\"indefinite\" />\n",
       "    <animate\n",
       "      attributeName=\"x\"\n",
       "      values=\"0;0;400\"\n",
       "      dur=\"3.5s\"\n",
       "      repeatCount=\"indefinite\" />\n",
       "  </rect>\n",
       "        <rect x=\"100\" y=\"207\" width=\"300\" height=\"43\">\n",
       "    <animate\n",
       "      attributeName=\"width\"\n",
       "      values=\"0;300;0\"\n",
       "      dur=\"3s\"\n",
       "      repeatCount=\"indefinite\" />\n",
       "    <animate\n",
       "      attributeName=\"x\"\n",
       "      values=\"100;100;400\"\n",
       "      dur=\"3s\"\n",
       "      repeatCount=\"indefinite\" />\n",
       "  </rect>\n",
       "        <rect x=\"100\" y=\"307\" width=\"400\" height=\"43\">\n",
       "    <animate\n",
       "      attributeName=\"width\"\n",
       "      values=\"0;400;0\"\n",
       "      dur=\"4s\"\n",
       "      repeatCount=\"indefinite\" />\n",
       "      <animate\n",
       "      attributeName=\"x\"\n",
       "      values=\"100;100;500\"\n",
       "      dur=\"4s\"\n",
       "      repeatCount=\"indefinite\" />\n",
       "  </rect>\n",
       "        <g style=\"fill:transparent;stroke-width:8; stroke-linejoin:round\" rx=\"5\">\n",
       "            <g transform=\"translate(45 50) rotate(-45)\">\n",
       "                <circle r=\"33\" cx=\"0\" cy=\"0\" />\n",
       "                <rect x=\"-8\" y=\"32\" width=\"16\" height=\"30\" />\n",
       "            </g>\n",
       "\n",
       "            <g transform=\"translate(450 152)\">\n",
       "                <polyline points=\"-15,-20 -35,-20 -35,40 25,40 25,20\" />\n",
       "                <rect x=\"-15\" y=\"-40\" width=\"60\" height=\"60\" />\n",
       "            </g>\n",
       "\n",
       "            <g transform=\"translate(50 352)\">\n",
       "                <polygon points=\"-35,-5 0,-40 35,-5\" />\n",
       "                <polygon points=\"-35,10 0,45 35,10\" />\n",
       "            </g>\n",
       "\n",
       "            <g transform=\"translate(75 250)\">\n",
       "                <polyline points=\"-30,30 -60,0 -30,-30\" />\n",
       "                <polyline points=\"0,30 -30,0 0,-30\" />\n",
       "            </g>\n",
       "\n",
       "            <g transform=\"translate(425 250) rotate(180)\">\n",
       "                <polyline points=\"-30,30 -60,0 -30,-30\" />\n",
       "                <polyline points=\"0,30 -30,0 0,-30\" />\n",
       "            </g>\n",
       "        </g>\n",
       "    </g>\n",
       "</svg>\n",
       "</a>\n",
       "Loading ITables v2.2.5 from the internet...\n",
       "(need <a href=https://mwouts.github.io/itables/troubleshooting.html>help</a>?)</td>\n",
       "</tr></tbody>\n",
       "</table>\n",
       "<link href=\"https://www.unpkg.com/dt_for_itables@2.0.13/dt_bundle.css\" rel=\"stylesheet\">\n",
       "<script type=\"module\">\n",
       "    import {DataTable, jQuery as $} from 'https://www.unpkg.com/dt_for_itables@2.0.13/dt_bundle.js';\n",
       "\n",
       "    document.querySelectorAll(\"#itables_bcaab009_838f_4748_ac86_37caca2675cc:not(.dataTable)\").forEach(table => {\n",
       "        if (!(table instanceof HTMLTableElement))\n",
       "            return;\n",
       "\n",
       "        // Define the table data\n",
       "        const data = [[\"Annual Premium*\", \"157.39 EUR\", \"Claims\", \"233.33 EUR\"], [\"Interest (financial income)\", \"3.93 EUR\", \"Premium Reserves\", \"-72.00 EUR\"], [\"Opening\", \"0.00 EUR\", \"\", \"\"], [\"Sum of Assets\", \"161.33 EUR\", \"Sum of Liabilities\", \"161.33 EUR\"]];\n",
       "\n",
       "        // Define the dt_args\n",
       "        let dt_args = {\"columnDefs\": [{\"className\": \"dt-left\", \"width\": \"150px\", \"targets\": \"_all\"}], \"layout\": {\"topStart\": null, \"topEnd\": null, \"bottomStart\": null, \"bottomEnd\": null}, \"order\": [], \"warn_on_selected_rows_not_rendered\": true};\n",
       "        dt_args[\"data\"] = data;\n",
       "\n",
       "        \n",
       "        new DataTable(table, dt_args);\n",
       "    });\n",
       "</script>\n"
      ]
     },
     "metadata": {},
     "output_type": "display_data"
    }
   ],
   "execution_count": 13
  },
  {
   "metadata": {
    "ExecuteTime": {
     "end_time": "2025-03-15T11:00:19.700807Z",
     "start_time": "2025-03-15T11:00:19.691469Z"
    }
   },
   "cell_type": "code",
   "source": "print(\"* We are using annual premium with yearly payment for balance sheet calculations.\")",
   "id": "32edd5286002808b",
   "outputs": [
    {
     "name": "stdout",
     "output_type": "stream",
     "text": [
      "* We are using annual premium with yearly payment for balance sheet calculations.\n"
     ]
    }
   ],
   "execution_count": 14
  },
  {
   "metadata": {
    "ExecuteTime": {
     "end_time": "2025-03-15T11:00:19.747660Z",
     "start_time": "2025-03-15T11:00:19.732805Z"
    }
   },
   "cell_type": "code",
   "source": [
    "if details_toggle.value == False:\n",
    "    mr.Stop()\n",
    "\n",
    "# Detailed calculation\n",
    "mr.Markdown(text=f'#<font color=\"black\">Detailed calculation</font>')\n",
    "\n",
    "mr.Markdown(text=f'###<font color=\"black\">Number of payments / Durations (month): {number_of_payments:.0f}</font>')\n",
    "mr.Markdown(text=f'###<font color=\"black\">Periodic rate: {periodic_rate * 100:.4f} %</font>')\n",
    "mr.Markdown(text=f'###<font color=\"black\">Cost of loan: {cost_of_loan:.2f} {currency.value}</font>')\n",
    "mr.Markdown(text=f'###<font color=\"black\">Total reimbursement amount: {total_reimbursement_amount:.2f} {currency.value}</font>')\n",
    "mr.Markdown(text=f'#') # spacer\n",
    "mr.Markdown(text=f'#') # spacer\n",
    "\n",
    "num_rows = len(amortization)\n",
    "\n",
    "remaining_amount = remaining_amount\n",
    "interest[0] = pd.NA\n",
    "amortization[0] = pd.NA\n",
    "monthly_reimbursed_amount_array = [monthly_reimbursed_amount] * (num_rows)\n",
    "monthly_reimbursed_amount_with_insurance_array = [monthly_reimbursed_amount + monthly_premium] * (num_rows)\n",
    "beginning_remaining_amount = [pd.NA] + remaining_amount[:-1]\n",
    "\n",
    "detailed_calc = pd.DataFrame({\n",
    "    \"Remaining amount (beginning of the year) (Ck-1)\": beginning_remaining_amount,\n",
    "    \"Interest (Ik)\": interest,\n",
    "    \"Amortization (Ak)\": amortization,\n",
    "    \"Monthly reimbursed amount (Ek)\": monthly_reimbursed_amount_array,\n",
    "    \"Monthly reimbursed amount with insurance\": monthly_reimbursed_amount_with_insurance_array,\n",
    "    \"Remaining amount (end of the year) (Ck)\": remaining_amount,\n",
    "})\n",
    "\n",
    "pd.set_option(\"display.max_rows\", None)\n",
    "pd.set_option(\"display.max_columns\", None)\n",
    "pd.set_option(\"display.width\", 0)\n",
    "pd.set_option(\"display.expand_frame_repr\", False)\n",
    "\n",
    "detailed_calc.index.name = \"Month\"\n",
    "styled_table = detailed_calc.style.set_table_attributes('style=\"display:inline\"') \\\n",
    "                                   .set_caption(\"Detailed Calculation Overview\") \\\n",
    "                                   .set_table_styles([\n",
    "                                       {'selector': 'thead th', 'props': [('background-color', '#D3D3D3'), ('color', 'black'), ('font-weight', 'bold')]},\n",
    "                                       {'selector': 'index', 'props': [('text-align', 'center'), ('font-weight', 'bold')]},\n",
    "                                       {'selector': 'table', 'props': [('border-collapse', 'collapse'), ('border', '1px solid black')]},\n",
    "                                       {'selector': 'thead', 'props': [('border', '1px solid black')]},\n",
    "                                       {'selector': 'tbody', 'props': [('border', '1px solid black')]},\n",
    "                                   ])\n",
    "\n",
    "# Display the styled DataFrame\n",
    "display(styled_table)"
   ],
   "id": "4707d7edac093477",
   "outputs": [
    {
     "ename": "StopExecution",
     "evalue": "",
     "output_type": "error",
     "traceback": []
    }
   ],
   "execution_count": 15
  },
  {
   "metadata": {},
   "cell_type": "code",
   "outputs": [],
   "execution_count": null,
   "source": [
    "# Mortality table details\n",
    "mr.Markdown(text=f'#<font color=\"black\">Mortality table details</font>')\n",
    "mr.Markdown(text=f'###<font color=\"black\">Chosen table: {mortality_table.value}</font>')\n",
    "\n",
    "df_mortality_data = pd.DataFrame(list(mortality_data.items()), columns=[\"Age (x)\", \"lx\"])\n",
    "df_mortality_data"
   ],
   "id": "e4cef4a92d8878bf"
  }
 ],
 "metadata": {
  "kernelspec": {
   "display_name": "Python 3",
   "language": "python",
   "name": "python3"
  },
  "language_info": {
   "codemirror_mode": {
    "name": "ipython",
    "version": 2
   },
   "file_extension": ".py",
   "mimetype": "text/x-python",
   "name": "python",
   "nbconvert_exporter": "python",
   "pygments_lexer": "ipython2",
   "version": "2.7.6"
  }
 },
 "nbformat": 4,
 "nbformat_minor": 5
}
