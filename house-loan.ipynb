{
 "cells": [
  {
   "metadata": {
    "ExecuteTime": {
     "end_time": "2025-02-19T13:27:36.491415Z",
     "start_time": "2025-02-19T13:27:36.475696Z"
    }
   },
   "cell_type": "code",
   "source": [
    "# Imports\n",
    "import mercury as mr\n",
    "import pandas as pd\n",
    "import random\n",
    "import csv"
   ],
   "id": "ac77557155c0f917",
   "outputs": [],
   "execution_count": 38
  },
  {
   "metadata": {
    "collapsed": true,
    "ExecuteTime": {
     "end_time": "2025-02-19T13:27:36.663187Z",
     "start_time": "2025-02-19T13:27:36.515493Z"
    }
   },
   "cell_type": "code",
   "source": [
    "# User interface inputs\n",
    "show_code = mr.Checkbox(value=False, label=\"Show source code\")\n",
    "app = mr.App(\n",
    "    title=\"Loan House Calculation\",\n",
    "    description=\"Actuarial Mathematics\",\n",
    "    show_code=show_code.value,\n",
    "    continuous_update=True\n",
    ")\n",
    "\n",
    "admin_toggle = mr.Checkbox(value=False, label=\"Enable Admin Mode (Simulate Random Contracts)\")\n",
    "_ = mr.Note(text=\"---\")\n",
    "\n",
    "if admin_toggle.value == True:\n",
    "    num_contracts = mr.Numeric(label=\"Number of Random Contracts\", value=10, min=1, max=100)\n",
    "else:\n",
    "    age = mr.Numeric(label=\"Age (Years)\", value=22, min=18, max=100)\n",
    "    amount = mr.Numeric(label=\"Loan Amount\", min=0, value=150000, max=999999999999)\n",
    "    interest_rate = mr.Numeric(label=\"Yearly Interest Rate (%)\", value=2.5, min=0.0, max=100.0, step=0.1)\n",
    "    maturity = mr.Numeric(label=\"Maturity (Years)\", value=25, min=1, max=50)\n",
    "\n",
    "mortality_table = mr.Select(value = \"TD88-90 (France)\", choices = [\"TD88-90 (France)\", \"TH00-02 (France)\"], label = \"Select Mortality Table\")\n",
    "currency = mr.Select(value = \"EUR\", choices = [\"EUR\", \"USD\", \"GBP\"], label = \"Select Currency\")"
   ],
   "id": "initial_id",
   "outputs": [
    {
     "data": {
      "application/vnd.jupyter.widget-view+json": {
       "version_major": 2,
       "version_minor": 0,
       "model_id": "0e17edf7caa94105b8f3732165cde959"
      },
      "application/mercury+json": "{\n    \"widget\": \"Checkbox\",\n    \"value\": false,\n    \"label\": \"Show source code\",\n    \"model_id\": \"0e17edf7caa94105b8f3732165cde959\",\n    \"code_uid\": \"Checkbox.0.50.70.2-randa5e4217c\",\n    \"url_key\": \"\",\n    \"disabled\": false,\n    \"hidden\": false\n}",
      "text/plain": [
       "mercury.Checkbox"
      ]
     },
     "metadata": {},
     "output_type": "display_data"
    },
    {
     "data": {
      "text/plain": [
       "mercury.App"
      ],
      "text/html": [
       "<h3>Mercury Application</h3><small>This output won't appear in the web app.</small>"
      ],
      "application/mercury+json": "{\n    \"widget\": \"App\",\n    \"title\": \"Loan House Calculation\",\n    \"description\": \"Actuarial Mathematics\",\n    \"show_code\": false,\n    \"show_prompt\": false,\n    \"output\": \"app\",\n    \"schedule\": \"\",\n    \"notify\": \"{}\",\n    \"continuous_update\": true,\n    \"static_notebook\": false,\n    \"show_sidebar\": true,\n    \"full_screen\": true,\n    \"allow_download\": true,\n    \"allow_share\": true,\n    \"stop_on_error\": false,\n    \"model_id\": \"mercury-app\",\n    \"code_uid\": \"App.0.50.110.3-rand54ef47f8\"\n}"
     },
     "metadata": {},
     "output_type": "display_data"
    },
    {
     "data": {
      "application/vnd.jupyter.widget-view+json": {
       "version_major": 2,
       "version_minor": 0,
       "model_id": "e271ef066d2844c1ba5dd4f7a913fc4b"
      },
      "application/mercury+json": "{\n    \"widget\": \"Checkbox\",\n    \"value\": false,\n    \"label\": \"Enable Admin Mode (Simulate Random Contracts)\",\n    \"model_id\": \"e271ef066d2844c1ba5dd4f7a913fc4b\",\n    \"code_uid\": \"Checkbox.0.50.70.10-rand0dd7a001\",\n    \"url_key\": \"\",\n    \"disabled\": false,\n    \"hidden\": false\n}",
      "text/plain": [
       "mercury.Checkbox"
      ]
     },
     "metadata": {},
     "output_type": "display_data"
    },
    {
     "data": {
      "application/mercury+json": "{\n    \"widget\": \"Note\",\n    \"value\": \"---\",\n    \"model_id\": \"Note.0.50.45.11-randa72295de\",\n    \"code_uid\": \"Note.0.50.45.11-randa72295de\"\n}",
      "text/markdown": "---",
      "text/plain": [
       "mercury.Note"
      ]
     },
     "metadata": {},
     "output_type": "display_data"
    },
    {
     "data": {
      "application/vnd.jupyter.widget-view+json": {
       "version_major": 2,
       "version_minor": 0,
       "model_id": "ebd9296d9ce34adc8fca9e3fd838f9ab"
      },
      "application/mercury+json": "{\n    \"widget\": \"Numeric\",\n    \"value\": 22.0,\n    \"min\": 18.0,\n    \"max\": 100.0,\n    \"step\": 1.0,\n    \"label\": \"Age (Years)\",\n    \"model_id\": \"ebd9296d9ce34adc8fca9e3fd838f9ab\",\n    \"code_uid\": \"Numeric.0.50.101.16-rand857374be\",\n    \"url_key\": \"\",\n    \"disabled\": false,\n    \"hidden\": false\n}",
      "text/plain": [
       "mercury.Numeric"
      ]
     },
     "metadata": {},
     "output_type": "display_data"
    },
    {
     "data": {
      "application/vnd.jupyter.widget-view+json": {
       "version_major": 2,
       "version_minor": 0,
       "model_id": "0653ae0a438c447a88817a546f152362"
      },
      "application/mercury+json": "{\n    \"widget\": \"Numeric\",\n    \"value\": 150000.0,\n    \"min\": 0.0,\n    \"max\": 999999999999.0,\n    \"step\": 1.0,\n    \"label\": \"Loan Amount\",\n    \"model_id\": \"0653ae0a438c447a88817a546f152362\",\n    \"code_uid\": \"Numeric.0.50.101.17-rand462f7b84\",\n    \"url_key\": \"\",\n    \"disabled\": false,\n    \"hidden\": false\n}",
      "text/plain": [
       "mercury.Numeric"
      ]
     },
     "metadata": {},
     "output_type": "display_data"
    },
    {
     "data": {
      "application/vnd.jupyter.widget-view+json": {
       "version_major": 2,
       "version_minor": 0,
       "model_id": "34b7b2e74e7c4bc18c06988e9b2ff5c3"
      },
      "application/mercury+json": "{\n    \"widget\": \"Numeric\",\n    \"value\": 2.5,\n    \"min\": 0.0,\n    \"max\": 100.0,\n    \"step\": 0.1,\n    \"label\": \"Yearly Interest Rate (%)\",\n    \"model_id\": \"34b7b2e74e7c4bc18c06988e9b2ff5c3\",\n    \"code_uid\": \"Numeric.0.50.101.18-rand13d9005f\",\n    \"url_key\": \"\",\n    \"disabled\": false,\n    \"hidden\": false\n}",
      "text/plain": [
       "mercury.Numeric"
      ]
     },
     "metadata": {},
     "output_type": "display_data"
    },
    {
     "data": {
      "application/vnd.jupyter.widget-view+json": {
       "version_major": 2,
       "version_minor": 0,
       "model_id": "6140ab7b6c2d4d0ea1455086af31b725"
      },
      "application/mercury+json": "{\n    \"widget\": \"Numeric\",\n    \"value\": 25.0,\n    \"min\": 1.0,\n    \"max\": 50.0,\n    \"step\": 1.0,\n    \"label\": \"Maturity (Years)\",\n    \"model_id\": \"6140ab7b6c2d4d0ea1455086af31b725\",\n    \"code_uid\": \"Numeric.0.50.101.19-rande9b09592\",\n    \"url_key\": \"\",\n    \"disabled\": false,\n    \"hidden\": false\n}",
      "text/plain": [
       "mercury.Numeric"
      ]
     },
     "metadata": {},
     "output_type": "display_data"
    },
    {
     "data": {
      "application/vnd.jupyter.widget-view+json": {
       "version_major": 2,
       "version_minor": 0,
       "model_id": "50a7dfb03e6f4b5c8e0adf816d9c7b0e"
      },
      "application/mercury+json": "{\n    \"widget\": \"Select\",\n    \"value\": \"TD88-90 (France)\",\n    \"choices\": [\n        \"TD88-90 (France)\",\n        \"TH00-02 (France)\"\n    ],\n    \"label\": \"Select Mortality Table\",\n    \"model_id\": \"50a7dfb03e6f4b5c8e0adf816d9c7b0e\",\n    \"code_uid\": \"Select.0.50.104.21-rand901b8739\",\n    \"url_key\": \"\",\n    \"disabled\": false,\n    \"hidden\": false\n}",
      "text/plain": [
       "mercury.Select"
      ]
     },
     "metadata": {},
     "output_type": "display_data"
    },
    {
     "data": {
      "application/vnd.jupyter.widget-view+json": {
       "version_major": 2,
       "version_minor": 0,
       "model_id": "e4488a35167b4d3994df2274a838d507"
      },
      "application/mercury+json": "{\n    \"widget\": \"Select\",\n    \"value\": \"EUR\",\n    \"choices\": [\n        \"EUR\",\n        \"USD\",\n        \"GBP\"\n    ],\n    \"label\": \"Select Currency\",\n    \"model_id\": \"e4488a35167b4d3994df2274a838d507\",\n    \"code_uid\": \"Select.0.50.104.22-rand2f2c8f26\",\n    \"url_key\": \"\",\n    \"disabled\": false,\n    \"hidden\": false\n}",
      "text/plain": [
       "mercury.Select"
      ]
     },
     "metadata": {},
     "output_type": "display_data"
    }
   ],
   "execution_count": 39
  },
  {
   "metadata": {
    "ExecuteTime": {
     "end_time": "2025-02-19T13:27:36.704928Z",
     "start_time": "2025-02-19T13:27:36.672196Z"
    }
   },
   "cell_type": "code",
   "source": [
    "_ = mr.Note(text=\"---\")\n",
    "_ = mr.Note(\"Please fill out the inputs above and click _Apply_ or hit Enter to calculate the result.\")"
   ],
   "id": "f009ebb8c0842082",
   "outputs": [
    {
     "data": {
      "application/mercury+json": "{\n    \"widget\": \"Note\",\n    \"value\": \"---\",\n    \"model_id\": \"Note.0.50.45.1-randc5934b43\",\n    \"code_uid\": \"Note.0.50.45.1-randc5934b43\"\n}",
      "text/markdown": "---",
      "text/plain": [
       "mercury.Note"
      ]
     },
     "metadata": {},
     "output_type": "display_data"
    },
    {
     "data": {
      "application/mercury+json": "{\n    \"widget\": \"Note\",\n    \"value\": \"Please fill out the inputs above and click _Apply_ or hit Enter to calculate the result.\",\n    \"model_id\": \"Note.0.50.45.2-rand4466aeea\",\n    \"code_uid\": \"Note.0.50.45.2-rand4466aeea\"\n}",
      "text/markdown": "Please fill out the inputs above and click _Apply_ or hit Enter to calculate the result.",
      "text/plain": [
       "mercury.Note"
      ]
     },
     "metadata": {},
     "output_type": "display_data"
    }
   ],
   "execution_count": 40
  },
  {
   "metadata": {
    "ExecuteTime": {
     "end_time": "2025-02-19T13:27:36.727551Z",
     "start_time": "2025-02-19T13:27:36.722115Z"
    }
   },
   "cell_type": "code",
   "source": [
    "# Input validation\n",
    "if age.value + maturity.value > 100:\n",
    "    mr.Markdown(text=f'#<font color=\"red\">ERROR: With these values no house loan is available. Please check your inputs.</font>')\n",
    "    mr.Stop()\n",
    "\n",
    "if admin_toggle.value == True:\n",
    "    mr.Stop()"
   ],
   "id": "fdf560a095f292ba",
   "outputs": [],
   "execution_count": 41
  },
  {
   "metadata": {
    "ExecuteTime": {
     "end_time": "2025-02-19T13:27:36.747692Z",
     "start_time": "2025-02-19T13:27:36.742075Z"
    }
   },
   "cell_type": "code",
   "source": [
    "# Functions\n",
    "def annuity_factor(x, m, tech_rate):\n",
    "    act_sum = 0\n",
    "    for i in range(0, m):\n",
    "        act_sum += nex(x, i, tech_rate)\n",
    "    return act_sum\n",
    "\n",
    "def nex(x, n, tech_rate):\n",
    "    return npx(x, n) * techDF(n, tech_rate)\n",
    "\n",
    "def npx(x ,n):\n",
    "    return mortality_data[x+n] / mortality_data[x]\n",
    "\n",
    "def techDF(n, tech_rate):\n",
    "    return 1 / ((1 + tech_rate) ** n)\n",
    "\n",
    "def n_1qx(x, n):\n",
    "    return (mortality_data[x+n] - mortality_data[x+n+1]) / mortality_data[x]"
   ],
   "id": "35c7e534de64e263",
   "outputs": [],
   "execution_count": 42
  },
  {
   "metadata": {
    "ExecuteTime": {
     "end_time": "2025-02-19T13:27:36.771908Z",
     "start_time": "2025-02-19T13:27:36.760617Z"
    }
   },
   "cell_type": "code",
   "source": [
    "# Load mortality table based on selection\n",
    "if mortality_table.value == \"TD88-90 (France)\":\n",
    "    with open(\"TD88-90.csv\", \"r\") as file:\n",
    "        reader = csv.reader(file)\n",
    "        next(reader)  # Skip the header\n",
    "        mortality_data = {int(row[0]): int(row[1]) for row in reader}\n",
    "\n",
    "if mortality_table.value == \"TH00-02 (France)\":\n",
    "    with open(\"TH00-02.csv\", \"r\") as file:\n",
    "        reader = csv.reader(file)\n",
    "        next(reader)  # Skip the header\n",
    "        mortality_data = {int(row[0]): int(row[1]) for row in reader}\n",
    "\n",
    "# print(f\"Successfully loaded {len(mortality_data)} entries from {mortality_table.value} mortality table.\")\n",
    "\n",
    "# Basic calculations\n",
    "number_of_payments = int(maturity.value * 12) # input is in years\n",
    "periodic_rate = interest_rate.value / 12 / 100 # input is yearly + should be divided by 100\n",
    "monthly_reimbursed_amount = (amount.value * periodic_rate) / (1 - (1 + periodic_rate) ** -number_of_payments)\n",
    "\n",
    "'''\n",
    "print(\"----\")\n",
    "print(f\"Number of payments: {number_of_payments}\")\n",
    "print(f\"Periodic rate: {periodic_rate:.6f}\" + \"%\")\n",
    "print(f\"Total amount: {amount.value:,.0f} {currency.value}\")\n",
    "print(f\"Monthly reimbursed amount: {monthly_reimbursed_amount:.6f} {currency.value}\")\n",
    "'''\n",
    "\n",
    "# Calculate for each month\n",
    "remaining_amount = []\n",
    "interest = []\n",
    "amortization = []\n",
    "tolerance = 1e-7\n",
    "\n",
    "for i in range(0, number_of_payments + 1):\n",
    "    # Special cases on the 0 month\n",
    "    if i == 0:\n",
    "        remaining_amount.append(amount.value)\n",
    "        interest.append(0)\n",
    "        amortization.append(0)\n",
    "        continue\n",
    "\n",
    "    # Remaining amount (end of the year) Ck\n",
    "    # Using tolerance for the last element (not perfect zero)\n",
    "    calculated_value = (1 + periodic_rate) * remaining_amount[-1] - monthly_reimbursed_amount\n",
    "    remaining_amount.append(0 if calculated_value < tolerance else calculated_value)\n",
    "\n",
    "    # Interest Ik\n",
    "    interest.append(remaining_amount[i-1] * periodic_rate)\n",
    "    # Amortization Ak\n",
    "    amortization.append(monthly_reimbursed_amount - interest[i])\n",
    "\n",
    "total_reimbursement_amount = sum(amortization)\n",
    "cost_of_loan = sum(interest)\n",
    "\n",
    "# print(f\"Total reimbursement amount: {total_reimbursement_amount:.2f} {currency.value}\")\n",
    "# print(f\"Cost of loan: {cost_of_loan:.2f} {currency.value}\")"
   ],
   "id": "fe822ec0362650f7",
   "outputs": [],
   "execution_count": 43
  },
  {
   "metadata": {
    "ExecuteTime": {
     "end_time": "2025-02-19T13:27:36.797511Z",
     "start_time": "2025-02-19T13:27:36.790511Z"
    }
   },
   "cell_type": "code",
   "source": [
    "# Yearly payment calculations\n",
    "k = 0\n",
    "discounted_amount_in_risks = []\n",
    "\n",
    "for i in range(1, len(remaining_amount)):\n",
    "    if i % 12 == 0:\n",
    "        benefit_akprime = remaining_amount[i]\n",
    "        discount_factor = (1 / (1 + interest_rate.value / 100)) ** (k+1)\n",
    "        probability = (mortality_data[age.value+k] - mortality_data[age.value+k+1]) / mortality_data[age.value]\n",
    "        discounted_amount_in_risk = benefit_akprime * discount_factor * probability\n",
    "        discounted_amount_in_risks.append(discounted_amount_in_risk)\n",
    "        k += 1\n",
    "total_discounted_amount_in_risk = sum(discounted_amount_in_risks)\n",
    "single_premium = total_discounted_amount_in_risk\n",
    "\n",
    "annuity_factor_calc = annuity_factor(int(age.value), int(maturity.value), interest_rate.value / 100)\n",
    "annual_premium = single_premium / annuity_factor_calc"
   ],
   "id": "301b29191f0bc9d8",
   "outputs": [],
   "execution_count": 44
  },
  {
   "metadata": {
    "ExecuteTime": {
     "end_time": "2025-02-19T13:27:36.815771Z",
     "start_time": "2025-02-19T13:27:36.811308Z"
    }
   },
   "cell_type": "code",
   "source": [
    "# Monthly payment calculations\n",
    "monthly_annuity_factor = annuity_factor_calc - ((12 - 1 )/( 2 * 12)) * (1 - nex(age.value, maturity.value, interest_rate.value / 100))\n",
    "monthly_annual_premium = single_premium / monthly_annuity_factor\n",
    "monthly_premium = monthly_annual_premium / 12\n"
   ],
   "id": "ced0152aa4f26a5c",
   "outputs": [],
   "execution_count": 45
  },
  {
   "metadata": {
    "ExecuteTime": {
     "end_time": "2025-02-19T13:27:36.851837Z",
     "start_time": "2025-02-19T13:27:36.834973Z"
    }
   },
   "cell_type": "code",
   "source": [
    "'''\n",
    "print(\"----\")\n",
    "print(f\"Total discounted amount in risks: {total_discounted_amount_in_risk:.2f} {currency.value}\")\n",
    "print(f\"Single premium (yearly payment): {single_premium:.2f} {currency.value}\")\n",
    "print(f\"Annuity factor (yearly payment): {annuity_factor_calc:.2f}\")\n",
    "print(f\"Annual premium (yearly payment): {annual_premium:.2f} {currency.value}\")\n",
    "\n",
    "print(\"----\")\n",
    "print(f\"Annual premium (monthly payment): {monthly_annual_premium:.2f} {currency.value}\")\n",
    "print(f\"Annuity factor (yearly payment): {monthly_annuity_factor:.2f}\")\n",
    "print(f\"Monthly premium (yearly payment): {monthly_premium:.2f} {currency.value}\")\n",
    "'''\n",
    "\n",
    "colors = [\"#F8F9FA\", \"green\", \"#FCE700\", \"#00F5FF\"]\n",
    "mr.Markdown(text=f'#<font color=\"black\">Yearly Payment</font>')\n",
    "mr.NumberBox([\n",
    "    mr.NumberBox(data=float(f\"{single_premium:.2f}\"), title=f\"Single premium ({currency.value})\", background_color=colors[0], border_color=colors[1], data_color=colors[1], title_color=colors[1]),\n",
    "    mr.NumberBox(data=float(f\"{annual_premium:.2f}\"), title=f\"Annual premium ({currency.value})\"),\n",
    "    mr.NumberBox(data=float(f\"{annuity_factor_calc:.3f}\"), title=\"Annuity factor\")\n",
    "])"
   ],
   "id": "486108e24b2218f5",
   "outputs": [
    {
     "data": {
      "text/plain": [
       "<IPython.core.display.Markdown object>"
      ],
      "text/markdown": "#<font color=\"black\">Yearly Payment</font>"
     },
     "metadata": {},
     "output_type": "display_data"
    },
    {
     "data": {
      "text/plain": [
       "<widgets.numberbox.NumberBox at 0x1e010c075f0>"
      ],
      "text/html": [
       "<style scoped>\n",
       "        .numberbox-container {\n",
       "        width: 100%;\n",
       "        display: flex;\n",
       "        flex-direction: row;\n",
       "        }\n",
       "        @media (max-width: 800px) {\n",
       "        .numberbox-container {\n",
       "            flex-direction: column;\n",
       "        }\n",
       "        }\n",
       "        </style><div class=\"numberbox-container\" style=\"display: flex; background: #fff;\">\n",
       "<div style=\"text-align: center; width: 100%; border: 1px solid green; margin-right: 15px; margin-top: 15px; padding-top: 40px; padding-bottom: 30px; background: #F8F9FA; border-radius:5px\">\n",
       "  <span style=\"font-size: 4em; color: green; font-family: monospace; \">2,914.63</span>\n",
       "  \n",
       "  <span style=\"font-size: 2em; color: green; display: block; padding-top: 20px; font-family: monospace; line-height: 1.3em;\">Single premium (EUR)</span>\n",
       "</div>\n",
       "  \n",
       "<div style=\"text-align: center; width: 100%; border: 1px solid lightgray; margin-right: 15px; margin-top: 15px; padding-top: 40px; padding-bottom: 30px; background: white; border-radius:5px\">\n",
       "  <span style=\"font-size: 4em; color: black; font-family: monospace; \">157.39</span>\n",
       "  \n",
       "  <span style=\"font-size: 2em; color: gray; display: block; padding-top: 20px; font-family: monospace; line-height: 1.3em;\">Annual premium (EUR)</span>\n",
       "</div>\n",
       "  \n",
       "<div style=\"text-align: center; width: 100%; border: 1px solid lightgray; margin-right: 0px; margin-top: 15px; padding-top: 40px; padding-bottom: 30px; background: white; border-radius:5px\">\n",
       "  <span style=\"font-size: 4em; color: black; font-family: monospace; \">18.518</span>\n",
       "  \n",
       "  <span style=\"font-size: 2em; color: gray; display: block; padding-top: 20px; font-family: monospace; line-height: 1.3em;\">Annuity factor</span>\n",
       "</div>\n",
       "  </div>"
      ]
     },
     "execution_count": 46,
     "metadata": {},
     "output_type": "execute_result"
    }
   ],
   "execution_count": 46
  },
  {
   "metadata": {
    "ExecuteTime": {
     "end_time": "2025-02-19T13:27:36.876663Z",
     "start_time": "2025-02-19T13:27:36.866666Z"
    }
   },
   "cell_type": "code",
   "source": [
    "mr.Markdown(text=f'#<font color=\"black\">Monthly Payment</font>')\n",
    "mr.NumberBox([\n",
    "    mr.NumberBox(data=float(f\"{monthly_premium:.2f}\"), title=f\"Monthly premium ({currency.value})\"),\n",
    "    mr.NumberBox(data=float(f\"{monthly_annual_premium:.2f}\"), title=f\"Annual premium ({currency.value})\"),\n",
    "    mr.NumberBox(data=float(f\"{monthly_annuity_factor:.3f}\"), title=\"Annuity factor\")\n",
    "])"
   ],
   "id": "860ca544a9cd0aba",
   "outputs": [
    {
     "data": {
      "text/plain": [
       "<IPython.core.display.Markdown object>"
      ],
      "text/markdown": "#<font color=\"black\">Monthly Payment</font>"
     },
     "metadata": {},
     "output_type": "display_data"
    },
    {
     "data": {
      "text/plain": [
       "<widgets.numberbox.NumberBox at 0x1e010c07680>"
      ],
      "text/html": [
       "<style scoped>\n",
       "        .numberbox-container {\n",
       "        width: 100%;\n",
       "        display: flex;\n",
       "        flex-direction: row;\n",
       "        }\n",
       "        @media (max-width: 800px) {\n",
       "        .numberbox-container {\n",
       "            flex-direction: column;\n",
       "        }\n",
       "        }\n",
       "        </style><div class=\"numberbox-container\" style=\"display: flex; background: #fff;\">\n",
       "<div style=\"text-align: center; width: 100%; border: 1px solid lightgray; margin-right: 15px; margin-top: 15px; padding-top: 40px; padding-bottom: 30px; background: white; border-radius:5px\">\n",
       "  <span style=\"font-size: 4em; color: black; font-family: monospace; \">13.28</span>\n",
       "  \n",
       "  <span style=\"font-size: 2em; color: gray; display: block; padding-top: 20px; font-family: monospace; line-height: 1.3em;\">Monthly premium (EUR)</span>\n",
       "</div>\n",
       "  \n",
       "<div style=\"text-align: center; width: 100%; border: 1px solid lightgray; margin-right: 15px; margin-top: 15px; padding-top: 40px; padding-bottom: 30px; background: white; border-radius:5px\">\n",
       "  <span style=\"font-size: 4em; color: black; font-family: monospace; \">159.33</span>\n",
       "  \n",
       "  <span style=\"font-size: 2em; color: gray; display: block; padding-top: 20px; font-family: monospace; line-height: 1.3em;\">Annual premium (EUR)</span>\n",
       "</div>\n",
       "  \n",
       "<div style=\"text-align: center; width: 100%; border: 1px solid lightgray; margin-right: 0px; margin-top: 15px; padding-top: 40px; padding-bottom: 30px; background: white; border-radius:5px\">\n",
       "  <span style=\"font-size: 4em; color: black; font-family: monospace; \">18.293</span>\n",
       "  \n",
       "  <span style=\"font-size: 2em; color: gray; display: block; padding-top: 20px; font-family: monospace; line-height: 1.3em;\">Annuity factor</span>\n",
       "</div>\n",
       "  </div>"
      ]
     },
     "execution_count": 47,
     "metadata": {},
     "output_type": "execute_result"
    }
   ],
   "execution_count": 47
  },
  {
   "metadata": {
    "ExecuteTime": {
     "end_time": "2025-02-19T13:27:36.916561Z",
     "start_time": "2025-02-19T13:27:36.896780Z"
    }
   },
   "cell_type": "code",
   "source": [
    "# Balance sheet for year 1\n",
    "# Sum of Assets and Liability should be equal\n",
    "\n",
    "# Assets\n",
    "balance_sheet_annual_premium = annual_premium\n",
    "balance_sheet_interest = balance_sheet_annual_premium * interest_rate.value / 100\n",
    "balance_sheet_sum_of_assets = balance_sheet_annual_premium + balance_sheet_interest\n",
    "\n",
    "# Liability\n",
    "balance_sheet_claims = remaining_amount[12] * (1 - mortality_data[age.value + 1 ] / mortality_data[age.value])\n",
    "balance_sheet_recurrence = (0 + balance_sheet_annual_premium - remaining_amount[12] * (1 / (1 + interest_rate.value / 100)) * n_1qx(age.value+12/12-1, 0)) / ((1 / (1 + interest_rate.value / 100)) * (1 -  n_1qx(age.value+12/12-1, 0)))\n",
    "balance_sheet_reserves = balance_sheet_recurrence * mortality_data[age.value + 1 ] / mortality_data[age.value]\n",
    "balance_sheet_sum_of_liabilities = balance_sheet_claims + balance_sheet_reserves\n",
    "\n",
    "'''\n",
    "print(f\"Claims: {balance_sheet_claims:.2f} {currency.value}\")\n",
    "print(f\"Recurrence: {balance_sheet_recurrence:.5f} {currency.value}\")\n",
    "print(f\"Reserves: {balance_sheet_reserves:.4f} {currency.value}\")\n",
    "'''\n",
    "\n",
    "# Validation check: assets should be equal to liabilities\n",
    "if balance_sheet_sum_of_assets - balance_sheet_sum_of_liabilities > tolerance:\n",
    "    mr.Markdown(text=f'#<font color=\"red\">ERROR: The difference between the assets and the liabilities are greater than the tolerance.</font>')\n",
    "\n",
    "mr.Markdown(text=f'#<font color=\"black\">Balance Sheet for Year 1</font>')\n",
    "\n",
    "df = pd.DataFrame(\n",
    "    {\n",
    "        \"Assets\": [\"Annual Premium*\", \"Interest (financial income)\", \"Opening\", \"Sum of Assets\"],\n",
    "        \"Assets Value\": [\n",
    "            f\"{float(balance_sheet_annual_premium):.2f} {currency.value}\",\n",
    "            f\"{float(balance_sheet_interest):.2f} {currency.value}\",\n",
    "            f\"{float(0):.2f} {currency.value}\",\n",
    "            f\"{float(balance_sheet_sum_of_assets):.2f} {currency.value}\"\n",
    "        ],\n",
    "        \"Liability\": [\"Claims\", \"Premium Reserves\", \"\", \"Sum of Liabilities\"],\n",
    "        \"Liability Value\": [\n",
    "            f\"{float(balance_sheet_claims):.2f} {currency.value}\",\n",
    "            f\"{float(balance_sheet_reserves):.2f} {currency.value}\",\n",
    "            \"\",\n",
    "            f\"{float(balance_sheet_sum_of_liabilities):.2f} {currency.value}\"\n",
    "        ]\n",
    "    }\n",
    ")\n",
    "\n",
    "mr.Table(data=df, width=\"150px\", text_align=\"left\")"
   ],
   "id": "bd5de0c3e381251a",
   "outputs": [
    {
     "data": {
      "text/plain": [
       "<IPython.core.display.Markdown object>"
      ],
      "text/markdown": "#<font color=\"black\">Balance Sheet for Year 1</font>"
     },
     "metadata": {},
     "output_type": "display_data"
    },
    {
     "data": {
      "text/plain": [
       "<IPython.core.display.HTML object>"
      ],
      "text/html": [
       "<table id=\"itables_fef12780_7e5d_4591_bcb2_831217ef9e3f\" class=\"display cell-border\" data-quarto-disable-processing=\"true\" style=\"table-layout:auto;width:auto;margin:auto;caption-side:bottom\">\n",
       "<thead>\n",
       "    <tr style=\"text-align: right;\">\n",
       "      \n",
       "      <th>Assets</th>\n",
       "      <th>Assets Value</th>\n",
       "      <th>Liability</th>\n",
       "      <th>Liability Value</th>\n",
       "    </tr>\n",
       "  </thead><tbody><tr>\n",
       "<td style=\"vertical-align:middle; text-align:left\">\n",
       "<a href=https://mwouts.github.io/itables/><svg class=\"main-svg\" xmlns=\"http://www.w3.org/2000/svg\" xmlns:xlink=\"http://www.w3.org/1999/xlink\"\n",
       "width=\"64\" viewBox=\"0 0 500 400\" style=\"font-family: 'Droid Sans', sans-serif;\">\n",
       "    <g style=\"fill:#d9d7fc\">\n",
       "        <path d=\"M100,400H500V357H100Z\" />\n",
       "        <path d=\"M100,300H400V257H100Z\" />\n",
       "        <path d=\"M0,200H400V157H0Z\" />\n",
       "        <path d=\"M100,100H500V57H100Z\" />\n",
       "        <path d=\"M100,350H500V307H100Z\" />\n",
       "        <path d=\"M100,250H400V207H100Z\" />\n",
       "        <path d=\"M0,150H400V107H0Z\" />\n",
       "        <path d=\"M100,50H500V7H100Z\" />\n",
       "    </g>\n",
       "    <g style=\"fill:#1a1366;stroke:#1a1366;\">\n",
       "   <rect x=\"100\" y=\"7\" width=\"400\" height=\"43\">\n",
       "    <animate\n",
       "      attributeName=\"width\"\n",
       "      values=\"0;400;0\"\n",
       "      dur=\"5s\"\n",
       "      repeatCount=\"indefinite\" />\n",
       "      <animate\n",
       "      attributeName=\"x\"\n",
       "      values=\"100;100;500\"\n",
       "      dur=\"5s\"\n",
       "      repeatCount=\"indefinite\" />\n",
       "  </rect>\n",
       "        <rect x=\"0\" y=\"107\" width=\"400\" height=\"43\">\n",
       "    <animate\n",
       "      attributeName=\"width\"\n",
       "      values=\"0;400;0\"\n",
       "      dur=\"3.5s\"\n",
       "      repeatCount=\"indefinite\" />\n",
       "    <animate\n",
       "      attributeName=\"x\"\n",
       "      values=\"0;0;400\"\n",
       "      dur=\"3.5s\"\n",
       "      repeatCount=\"indefinite\" />\n",
       "  </rect>\n",
       "        <rect x=\"100\" y=\"207\" width=\"300\" height=\"43\">\n",
       "    <animate\n",
       "      attributeName=\"width\"\n",
       "      values=\"0;300;0\"\n",
       "      dur=\"3s\"\n",
       "      repeatCount=\"indefinite\" />\n",
       "    <animate\n",
       "      attributeName=\"x\"\n",
       "      values=\"100;100;400\"\n",
       "      dur=\"3s\"\n",
       "      repeatCount=\"indefinite\" />\n",
       "  </rect>\n",
       "        <rect x=\"100\" y=\"307\" width=\"400\" height=\"43\">\n",
       "    <animate\n",
       "      attributeName=\"width\"\n",
       "      values=\"0;400;0\"\n",
       "      dur=\"4s\"\n",
       "      repeatCount=\"indefinite\" />\n",
       "      <animate\n",
       "      attributeName=\"x\"\n",
       "      values=\"100;100;500\"\n",
       "      dur=\"4s\"\n",
       "      repeatCount=\"indefinite\" />\n",
       "  </rect>\n",
       "        <g style=\"fill:transparent;stroke-width:8; stroke-linejoin:round\" rx=\"5\">\n",
       "            <g transform=\"translate(45 50) rotate(-45)\">\n",
       "                <circle r=\"33\" cx=\"0\" cy=\"0\" />\n",
       "                <rect x=\"-8\" y=\"32\" width=\"16\" height=\"30\" />\n",
       "            </g>\n",
       "\n",
       "            <g transform=\"translate(450 152)\">\n",
       "                <polyline points=\"-15,-20 -35,-20 -35,40 25,40 25,20\" />\n",
       "                <rect x=\"-15\" y=\"-40\" width=\"60\" height=\"60\" />\n",
       "            </g>\n",
       "\n",
       "            <g transform=\"translate(50 352)\">\n",
       "                <polygon points=\"-35,-5 0,-40 35,-5\" />\n",
       "                <polygon points=\"-35,10 0,45 35,10\" />\n",
       "            </g>\n",
       "\n",
       "            <g transform=\"translate(75 250)\">\n",
       "                <polyline points=\"-30,30 -60,0 -30,-30\" />\n",
       "                <polyline points=\"0,30 -30,0 0,-30\" />\n",
       "            </g>\n",
       "\n",
       "            <g transform=\"translate(425 250) rotate(180)\">\n",
       "                <polyline points=\"-30,30 -60,0 -30,-30\" />\n",
       "                <polyline points=\"0,30 -30,0 0,-30\" />\n",
       "            </g>\n",
       "        </g>\n",
       "    </g>\n",
       "</svg>\n",
       "</a>\n",
       "Loading ITables v2.2.4 from the internet...\n",
       "(need <a href=https://mwouts.github.io/itables/troubleshooting.html>help</a>?)</td>\n",
       "</tr></tbody>\n",
       "</table>\n",
       "<link href=\"https://www.unpkg.com/dt_for_itables@2.0.13/dt_bundle.css\" rel=\"stylesheet\">\n",
       "<script type=\"module\">\n",
       "    import {DataTable, jQuery as $} from 'https://www.unpkg.com/dt_for_itables@2.0.13/dt_bundle.js';\n",
       "\n",
       "    document.querySelectorAll(\"#itables_fef12780_7e5d_4591_bcb2_831217ef9e3f:not(.dataTable)\").forEach(table => {\n",
       "        if (!(table instanceof HTMLTableElement))\n",
       "            return;\n",
       "\n",
       "        // Define the table data\n",
       "        const data = [[\"Annual Premium*\", \"157.39 EUR\", \"Claims\", \"233.33 EUR\"], [\"Interest (financial income)\", \"3.93 EUR\", \"Premium Reserves\", \"-72.00 EUR\"], [\"Opening\", \"0.00 EUR\", \"\", \"\"], [\"Sum of Assets\", \"161.33 EUR\", \"Sum of Liabilities\", \"161.33 EUR\"]];\n",
       "\n",
       "        // Define the dt_args\n",
       "        let dt_args = {\"columnDefs\": [{\"className\": \"dt-left\", \"width\": \"150px\", \"targets\": \"_all\"}], \"layout\": {\"topStart\": null, \"topEnd\": null, \"bottomStart\": null, \"bottomEnd\": null}, \"order\": [], \"warn_on_selected_rows_not_rendered\": true};\n",
       "        dt_args[\"data\"] = data;\n",
       "\n",
       "        \n",
       "        new DataTable(table, dt_args);\n",
       "    });\n",
       "</script>\n"
      ]
     },
     "metadata": {},
     "output_type": "display_data"
    }
   ],
   "execution_count": 48
  },
  {
   "metadata": {
    "ExecuteTime": {
     "end_time": "2025-02-19T13:27:36.943288Z",
     "start_time": "2025-02-19T13:27:36.934788Z"
    }
   },
   "cell_type": "code",
   "source": "print(\"* We are using annual premium with yearly payment for balance sheet calculations.\")",
   "id": "32edd5286002808b",
   "outputs": [
    {
     "name": "stdout",
     "output_type": "stream",
     "text": [
      "* We are using annual premium with yearly payment for balance sheet calculations.\n"
     ]
    }
   ],
   "execution_count": 49
  },
  {
   "metadata": {
    "ExecuteTime": {
     "end_time": "2025-02-19T13:27:36.984168Z",
     "start_time": "2025-02-19T13:27:36.981082Z"
    }
   },
   "cell_type": "code",
   "source": "",
   "id": "4707d7edac093477",
   "outputs": [],
   "execution_count": null
  }
 ],
 "metadata": {
  "kernelspec": {
   "display_name": "Python 3",
   "language": "python",
   "name": "python3"
  },
  "language_info": {
   "codemirror_mode": {
    "name": "ipython",
    "version": 2
   },
   "file_extension": ".py",
   "mimetype": "text/x-python",
   "name": "python",
   "nbconvert_exporter": "python",
   "pygments_lexer": "ipython2",
   "version": "2.7.6"
  }
 },
 "nbformat": 4,
 "nbformat_minor": 5
}
