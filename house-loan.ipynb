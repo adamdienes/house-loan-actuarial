{
 "cells": [
  {
   "metadata": {
    "ExecuteTime": {
     "end_time": "2025-02-21T10:19:56.651884Z",
     "start_time": "2025-02-21T10:19:56.642403Z"
    }
   },
   "cell_type": "code",
   "source": [
    "# Imports and global tolerance\n",
    "import mercury as mr\n",
    "import random\n",
    "import csv\n",
    "\n",
    "import pandas as pd\n",
    "from sklearn.model_selection import train_test_split\n",
    "from sklearn.preprocessing import LabelEncoder, StandardScaler\n",
    "from sklearn.ensemble import RandomForestRegressor\n",
    "from sklearn.metrics import mean_absolute_error, mean_squared_error, r2_score\n",
    "import matplotlib.pyplot as plt\n",
    "from sklearn.model_selection import cross_val_score\n",
    "import numpy as np\n",
    "\n",
    "tolerance = 1e-7"
   ],
   "id": "ac77557155c0f917",
   "outputs": [],
   "execution_count": 33
  },
  {
   "metadata": {
    "collapsed": true,
    "ExecuteTime": {
     "end_time": "2025-02-21T10:19:56.842993Z",
     "start_time": "2025-02-21T10:19:56.676162Z"
    }
   },
   "cell_type": "code",
   "source": [
    "# User interface inputs\n",
    "show_code = mr.Checkbox(value=False, label=\"Show source code\")\n",
    "app = mr.App(\n",
    "    title=\"Loan House Calculation\",\n",
    "    description=\"Actuarial Mathematics\",\n",
    "    show_code=show_code.value,\n",
    "    continuous_update=True\n",
    ")\n",
    "\n",
    "admin_toggle = mr.Checkbox(value=False, label=\"Enable Admin Mode (Simulate Random Contracts)\")\n",
    "details_toggle = mr.Checkbox(value=False, label=\"Show detailed calculations\")\n",
    "_ = mr.Note(text=\"---\")\n",
    "\n",
    "if admin_toggle.value == True:\n",
    "    num_contracts = mr.Numeric(label=\"Number of Random Contracts\", value=10, min=1, max=1000)\n",
    "else:\n",
    "    age = mr.Numeric(label=\"Age (Years)\", value=22, min=18, max=100)\n",
    "    amount = mr.Numeric(label=\"Loan Amount\", min=0, value=150000, max=999999999999)\n",
    "    interest_rate = mr.Numeric(label=\"Yearly Interest Rate (%)\", value=2.5, min=0.0, max=100.0, step=0.1)\n",
    "    maturity = mr.Numeric(label=\"Maturity (Years)\", value=25, min=1, max=50)\n",
    "\n",
    "mortality_table = mr.Select(value = \"TD88-90 (France)\", choices = [\"TD88-90 (France)\", \"TH00-02 (France)\"], label = \"Select Mortality Table\")\n",
    "currency = mr.Select(value = \"EUR\", choices = [\"EUR\", \"USD\", \"GBP\"], label = \"Select Currency\")"
   ],
   "id": "initial_id",
   "outputs": [
    {
     "data": {
      "application/vnd.jupyter.widget-view+json": {
       "version_major": 2,
       "version_minor": 0,
       "model_id": "2b657f01bc154313ad50041554b233a9"
      },
      "application/mercury+json": "{\n    \"widget\": \"Checkbox\",\n    \"value\": false,\n    \"label\": \"Show source code\",\n    \"model_id\": \"2b657f01bc154313ad50041554b233a9\",\n    \"code_uid\": \"Checkbox.0.50.70.2-randdccb013e\",\n    \"url_key\": \"\",\n    \"disabled\": false,\n    \"hidden\": false\n}",
      "text/plain": [
       "mercury.Checkbox"
      ]
     },
     "metadata": {},
     "output_type": "display_data"
    },
    {
     "data": {
      "text/plain": [
       "mercury.App"
      ],
      "text/html": [
       "<h3>Mercury Application</h3><small>This output won't appear in the web app.</small>"
      ],
      "application/mercury+json": "{\n    \"widget\": \"App\",\n    \"title\": \"Loan House Calculation\",\n    \"description\": \"Actuarial Mathematics\",\n    \"show_code\": false,\n    \"show_prompt\": false,\n    \"output\": \"app\",\n    \"schedule\": \"\",\n    \"notify\": \"{}\",\n    \"continuous_update\": true,\n    \"static_notebook\": false,\n    \"show_sidebar\": true,\n    \"full_screen\": true,\n    \"allow_download\": true,\n    \"allow_share\": true,\n    \"stop_on_error\": false,\n    \"model_id\": \"mercury-app\",\n    \"code_uid\": \"App.0.50.110.3-rand5efbce1b\"\n}"
     },
     "metadata": {},
     "output_type": "display_data"
    },
    {
     "data": {
      "application/vnd.jupyter.widget-view+json": {
       "version_major": 2,
       "version_minor": 0,
       "model_id": "ad1cf03f6f8c4a2d928c2b587632e1dc"
      },
      "application/mercury+json": "{\n    \"widget\": \"Checkbox\",\n    \"value\": false,\n    \"label\": \"Enable Admin Mode (Simulate Random Contracts)\",\n    \"model_id\": \"ad1cf03f6f8c4a2d928c2b587632e1dc\",\n    \"code_uid\": \"Checkbox.0.50.70.10-rand81e93a02\",\n    \"url_key\": \"\",\n    \"disabled\": false,\n    \"hidden\": false\n}",
      "text/plain": [
       "mercury.Checkbox"
      ]
     },
     "metadata": {},
     "output_type": "display_data"
    },
    {
     "data": {
      "application/mercury+json": "{\n    \"widget\": \"Note\",\n    \"value\": \"---\",\n    \"model_id\": \"Note.0.50.45.11-rand85479bb2\",\n    \"code_uid\": \"Note.0.50.45.11-rand85479bb2\"\n}",
      "text/markdown": "---",
      "text/plain": [
       "mercury.Note"
      ]
     },
     "metadata": {},
     "output_type": "display_data"
    },
    {
     "data": {
      "application/vnd.jupyter.widget-view+json": {
       "version_major": 2,
       "version_minor": 0,
       "model_id": "9c263ef5f3114193909a43a22207fa70"
      },
      "application/mercury+json": "{\n    \"widget\": \"Numeric\",\n    \"value\": 22.0,\n    \"min\": 18.0,\n    \"max\": 100.0,\n    \"step\": 1.0,\n    \"label\": \"Age (Years)\",\n    \"model_id\": \"9c263ef5f3114193909a43a22207fa70\",\n    \"code_uid\": \"Numeric.0.50.101.16-randa2c0a818\",\n    \"url_key\": \"\",\n    \"disabled\": false,\n    \"hidden\": false\n}",
      "text/plain": [
       "mercury.Numeric"
      ]
     },
     "metadata": {},
     "output_type": "display_data"
    },
    {
     "data": {
      "application/vnd.jupyter.widget-view+json": {
       "version_major": 2,
       "version_minor": 0,
       "model_id": "e75ad3a3e1454a698467f619bae75a33"
      },
      "application/mercury+json": "{\n    \"widget\": \"Numeric\",\n    \"value\": 150000.0,\n    \"min\": 0.0,\n    \"max\": 999999999999.0,\n    \"step\": 1.0,\n    \"label\": \"Loan Amount\",\n    \"model_id\": \"e75ad3a3e1454a698467f619bae75a33\",\n    \"code_uid\": \"Numeric.0.50.101.17-rand8da8a361\",\n    \"url_key\": \"\",\n    \"disabled\": false,\n    \"hidden\": false\n}",
      "text/plain": [
       "mercury.Numeric"
      ]
     },
     "metadata": {},
     "output_type": "display_data"
    },
    {
     "data": {
      "application/vnd.jupyter.widget-view+json": {
       "version_major": 2,
       "version_minor": 0,
       "model_id": "d36be50e152c438f8358702267e032fc"
      },
      "application/mercury+json": "{\n    \"widget\": \"Numeric\",\n    \"value\": 2.5,\n    \"min\": 0.0,\n    \"max\": 100.0,\n    \"step\": 0.1,\n    \"label\": \"Yearly Interest Rate (%)\",\n    \"model_id\": \"d36be50e152c438f8358702267e032fc\",\n    \"code_uid\": \"Numeric.0.50.101.18-rand0c5a7b90\",\n    \"url_key\": \"\",\n    \"disabled\": false,\n    \"hidden\": false\n}",
      "text/plain": [
       "mercury.Numeric"
      ]
     },
     "metadata": {},
     "output_type": "display_data"
    },
    {
     "data": {
      "application/vnd.jupyter.widget-view+json": {
       "version_major": 2,
       "version_minor": 0,
       "model_id": "1fb2c62d085b4d708d5b0b984e770887"
      },
      "application/mercury+json": "{\n    \"widget\": \"Numeric\",\n    \"value\": 25.0,\n    \"min\": 1.0,\n    \"max\": 50.0,\n    \"step\": 1.0,\n    \"label\": \"Maturity (Years)\",\n    \"model_id\": \"1fb2c62d085b4d708d5b0b984e770887\",\n    \"code_uid\": \"Numeric.0.50.101.19-randd5136771\",\n    \"url_key\": \"\",\n    \"disabled\": false,\n    \"hidden\": false\n}",
      "text/plain": [
       "mercury.Numeric"
      ]
     },
     "metadata": {},
     "output_type": "display_data"
    },
    {
     "data": {
      "application/vnd.jupyter.widget-view+json": {
       "version_major": 2,
       "version_minor": 0,
       "model_id": "c61028d46b84432c80b79bf780128686"
      },
      "application/mercury+json": "{\n    \"widget\": \"Select\",\n    \"value\": \"TD88-90 (France)\",\n    \"choices\": [\n        \"TD88-90 (France)\",\n        \"TH00-02 (France)\"\n    ],\n    \"label\": \"Select Mortality Table\",\n    \"model_id\": \"c61028d46b84432c80b79bf780128686\",\n    \"code_uid\": \"Select.0.50.104.21-randb284c9e2\",\n    \"url_key\": \"\",\n    \"disabled\": false,\n    \"hidden\": false\n}",
      "text/plain": [
       "mercury.Select"
      ]
     },
     "metadata": {},
     "output_type": "display_data"
    },
    {
     "data": {
      "application/vnd.jupyter.widget-view+json": {
       "version_major": 2,
       "version_minor": 0,
       "model_id": "e75511aa64bf4c5daec3dc02f5a39f6a"
      },
      "application/mercury+json": "{\n    \"widget\": \"Select\",\n    \"value\": \"EUR\",\n    \"choices\": [\n        \"EUR\",\n        \"USD\",\n        \"GBP\"\n    ],\n    \"label\": \"Select Currency\",\n    \"model_id\": \"e75511aa64bf4c5daec3dc02f5a39f6a\",\n    \"code_uid\": \"Select.0.50.104.22-rand7a56454a\",\n    \"url_key\": \"\",\n    \"disabled\": false,\n    \"hidden\": false\n}",
      "text/plain": [
       "mercury.Select"
      ]
     },
     "metadata": {},
     "output_type": "display_data"
    }
   ],
   "execution_count": 34
  },
  {
   "metadata": {
    "ExecuteTime": {
     "end_time": "2025-02-21T10:19:56.890441Z",
     "start_time": "2025-02-21T10:19:56.856600Z"
    }
   },
   "cell_type": "code",
   "source": [
    "_ = mr.Note(text=\"---\")\n",
    "_ = mr.Note(\"Please fill out the inputs above and click _Apply_ or hit Enter to calculate the result.\")"
   ],
   "id": "f009ebb8c0842082",
   "outputs": [
    {
     "data": {
      "application/mercury+json": "{\n    \"widget\": \"Note\",\n    \"value\": \"---\",\n    \"model_id\": \"Note.0.50.45.1-rand67d142c0\",\n    \"code_uid\": \"Note.0.50.45.1-rand67d142c0\"\n}",
      "text/markdown": "---",
      "text/plain": [
       "mercury.Note"
      ]
     },
     "metadata": {},
     "output_type": "display_data"
    },
    {
     "data": {
      "application/mercury+json": "{\n    \"widget\": \"Note\",\n    \"value\": \"Please fill out the inputs above and click _Apply_ or hit Enter to calculate the result.\",\n    \"model_id\": \"Note.0.50.45.2-rand47e559e9\",\n    \"code_uid\": \"Note.0.50.45.2-rand47e559e9\"\n}",
      "text/markdown": "Please fill out the inputs above and click _Apply_ or hit Enter to calculate the result.",
      "text/plain": [
       "mercury.Note"
      ]
     },
     "metadata": {},
     "output_type": "display_data"
    }
   ],
   "execution_count": 35
  },
  {
   "metadata": {
    "ExecuteTime": {
     "end_time": "2025-02-21T10:19:56.914059Z",
     "start_time": "2025-02-21T10:19:56.907721Z"
    }
   },
   "cell_type": "code",
   "source": [
    "# Load mortality table\n",
    "def load_mortality_data(filename):\n",
    "    with open(filename, \"r\") as file:\n",
    "        reader = csv.reader(file)\n",
    "        next(reader)  # Skip the header\n",
    "        return {int(row[0]): int(row[1]) for row in reader}\n",
    "\n",
    "if mortality_table.value == \"TD88-90 (France)\":\n",
    "    mortality_data = load_mortality_data(\"TD88-90.csv\")\n",
    "elif mortality_table.value == \"TH00-02 (France)\":\n",
    "    mortality_data = load_mortality_data(\"TH00-02.csv\")"
   ],
   "id": "8f511ac672ff02f9",
   "outputs": [],
   "execution_count": 36
  },
  {
   "metadata": {
    "ExecuteTime": {
     "end_time": "2025-02-21T10:19:56.942608Z",
     "start_time": "2025-02-21T10:19:56.931676Z"
    }
   },
   "cell_type": "code",
   "source": [
    "# Calculation helper functions\n",
    "def annuity_factor(x, m, tech_rate):\n",
    "    act_sum = 0\n",
    "    for i in range(0, m):\n",
    "        act_sum += nex(x, i, tech_rate)\n",
    "    return act_sum\n",
    "\n",
    "def nex(x, n, tech_rate):\n",
    "    return npx(x, n) * techDF(n, tech_rate)\n",
    "\n",
    "def npx(x ,n):\n",
    "    return mortality_data[x+n] / mortality_data[x]\n",
    "\n",
    "def techDF(n, tech_rate):\n",
    "    return 1 / ((1 + tech_rate) ** n)\n",
    "\n",
    "def n_1qx(x, n):\n",
    "    return (mortality_data[x+n] - mortality_data[x+n+1]) / mortality_data[x]"
   ],
   "id": "35c7e534de64e263",
   "outputs": [],
   "execution_count": 37
  },
  {
   "metadata": {
    "ExecuteTime": {
     "end_time": "2025-02-21T10:19:56.969098Z",
     "start_time": "2025-02-21T10:19:56.958027Z"
    }
   },
   "cell_type": "code",
   "source": [
    "# Core logic\n",
    "def calculate_contract(p_age, p_maturity, p_interest, p_amount):\n",
    "    number_of_payments = int(p_maturity * 12) # input is in years\n",
    "    periodic_rate = p_interest / 12 / 100 # input is yearly + should be divided by 100\n",
    "    monthly_reimbursed_amount = (p_amount * periodic_rate) / (1 - (1 + periodic_rate) ** -number_of_payments)\n",
    "\n",
    "    remaining_amount = []\n",
    "    interest = []\n",
    "    amortization = []\n",
    "\n",
    "    for i in range(0, number_of_payments + 1):\n",
    "        # Special cases on the 0 month\n",
    "        if i == 0:\n",
    "            remaining_amount.append(p_amount)\n",
    "            interest.append(0)\n",
    "            amortization.append(0)\n",
    "            continue\n",
    "\n",
    "        # Remaining amount (end of the year) Ck\n",
    "        # Using tolerance for the last element (not perfect zero)\n",
    "        calculated_value = (1 + periodic_rate) * remaining_amount[-1] - monthly_reimbursed_amount\n",
    "        remaining_amount.append(0 if calculated_value < tolerance else calculated_value)\n",
    "\n",
    "        # Interest Ik\n",
    "        interest.append(remaining_amount[i-1] * periodic_rate)\n",
    "        # Amortization Ak\n",
    "        amortization.append(monthly_reimbursed_amount - interest[i])\n",
    "\n",
    "    total_reimbursement_amount = sum(amortization)\n",
    "    cost_of_loan = sum(interest)\n",
    "    # print(f\"Total reimbursement amount: {total_reimbursement_amount:.2f} {currency.value}\")\n",
    "    # print(f\"Cost of loan: {cost_of_loan:.2f} {currency.value}\")\n",
    "\n",
    "    # Yearly payment calculations\n",
    "    k = 0\n",
    "    discounted_amount_in_risks = []\n",
    "\n",
    "    for i in range(1, len(remaining_amount)):\n",
    "        if i % 12 == 0:\n",
    "            benefit_akprime = remaining_amount[i]\n",
    "            discount_factor = (1 / (1 + p_interest / 100)) ** (k+1)\n",
    "            probability = (mortality_data[p_age+k] - mortality_data[p_age+k+1]) / mortality_data[p_age]\n",
    "            discounted_amount_in_risk = benefit_akprime * discount_factor * probability\n",
    "            discounted_amount_in_risks.append(discounted_amount_in_risk)\n",
    "            k += 1\n",
    "    total_discounted_amount_in_risk = sum(discounted_amount_in_risks)\n",
    "    single_premium = total_discounted_amount_in_risk\n",
    "\n",
    "    annuity_factor_calc = annuity_factor(int(p_age), int(p_maturity), p_interest / 100)\n",
    "    annual_premium = single_premium / annuity_factor_calc\n",
    "\n",
    "    # Monthly payment calculations\n",
    "    monthly_annuity_factor = annuity_factor_calc - ((12 - 1 )/( 2 * 12)) * (1 - nex(p_age, p_maturity, p_interest / 100))\n",
    "    monthly_annual_premium = single_premium / monthly_annuity_factor\n",
    "    monthly_premium = monthly_annual_premium / 12\n",
    "\n",
    "    return single_premium, annual_premium, annuity_factor_calc, monthly_premium, monthly_annual_premium, monthly_annuity_factor, number_of_payments, periodic_rate, monthly_reimbursed_amount, remaining_amount, interest, amortization, total_reimbursement_amount, cost_of_loan\n"
   ],
   "id": "6dfaf0f40ab711d",
   "outputs": [],
   "execution_count": 38
  },
  {
   "metadata": {
    "ExecuteTime": {
     "end_time": "2025-02-21T10:57:08.817059Z",
     "start_time": "2025-02-21T10:57:08.803401Z"
    }
   },
   "cell_type": "code",
   "source": [
    "# Simulation helper functions\n",
    "def evaluate_model(y_test, y_pred, target_name):\n",
    "    print(f\"{target_name} Prediction Performance:\")\n",
    "    print(f\"MAE: {mean_absolute_error(y_test, y_pred):.2f}\")\n",
    "    print(f\"MSE: {mean_squared_error(y_test, y_pred):.2f}\")\n",
    "    print(f\"R² Score: {r2_score(y_test, y_pred):.4f}\\n\")\n",
    "\n",
    "def plot_learning_curve():\n",
    "    sizes = list(range(10, len(X), 10))\n",
    "    r2_scores_y1 = []\n",
    "    r2_scores_y2 = []\n",
    "\n",
    "    for size in sizes:\n",
    "        X_sample, y1_sample, y2_sample = X_scaled[:size], y1[:size], y2[:size]\n",
    "\n",
    "        if size < 20:  # Avoid unreliable training with too small datasets\n",
    "            r2_scores_y1.append(np.nan)\n",
    "            r2_scores_y2.append(np.nan)\n",
    "            continue\n",
    "\n",
    "        model1_cv = RandomForestRegressor(n_estimators=100, random_state=42)\n",
    "        model2_cv = RandomForestRegressor(n_estimators=100, random_state=42)\n",
    "\n",
    "        r2_y1 = np.mean(cross_val_score(model1_cv, X_sample, y1_sample, cv=5, scoring='r2'))\n",
    "        r2_y2 = np.mean(cross_val_score(model2_cv, X_sample, y2_sample, cv=5, scoring='r2'))\n",
    "\n",
    "        r2_scores_y1.append(r2_y1)\n",
    "        r2_scores_y2.append(r2_y2)\n",
    "\n",
    "    plt.figure(figsize=(10, 5))\n",
    "    plt.plot(sizes, r2_scores_y1, marker='o', label='Single Premium R² Score')\n",
    "    plt.plot(sizes, r2_scores_y2, marker='o', label='Annual Premium R² Score')\n",
    "\n",
    "    # Mark points above threshold\n",
    "    for size, r2_y1, r2_y2 in zip(sizes, r2_scores_y1, r2_scores_y2):\n",
    "        if r2_y1 >= 0.90:\n",
    "            plt.scatter(size, r2_y1, color='green', s=100, edgecolors='black', label='_nolegend_')\n",
    "        if r2_y2 >= 0.90:\n",
    "            plt.scatter(size, r2_y2, color='green', s=100, edgecolors='black', label='_nolegend_')\n",
    "\n",
    "    plt.axhline(y=0.90, color='r', linestyle='--', label='90% Threshold')\n",
    "    plt.xlabel(\"Dataset Size\")\n",
    "    plt.ylabel(\"R² Score\")\n",
    "    plt.title(\"Learning Curve - R² Score vs Dataset Size (Cross-Validated)\")\n",
    "    plt.legend()\n",
    "    plt.grid()\n",
    "    plt.ylim(bottom=0)\n",
    "    plt.show()"
   ],
   "id": "59f9ace54af36623",
   "outputs": [],
   "execution_count": 51
  },
  {
   "metadata": {
    "ExecuteTime": {
     "end_time": "2025-02-21T10:19:57.022227Z",
     "start_time": "2025-02-21T10:19:57.011340Z"
    }
   },
   "cell_type": "code",
   "source": [
    "# If admin simulation\n",
    "if admin_toggle.value == True:\n",
    "    random_contracts = []\n",
    "    for _ in range(int(num_contracts.value)):\n",
    "        age = random.randint(18, 90)\n",
    "        loan_amount = random.randint(10000, 1000000)\n",
    "        interest_rate = random.uniform(0.5, 15.0)\n",
    "        maturity = random.randint(1, 100 - age) # upper do not to overflow the mortality table\n",
    "\n",
    "        single_premium, annual_premium, annuity_factor_calc, monthly_premium, monthly_annual_premium, monthly_annuity_factor, number_of_payments, periodic_rate, monthly_reimbursed_amount, remaining_amount, interest, amortization, total_reimbursement_amount, cost_of_loan = calculate_contract(age, maturity, interest_rate, loan_amount)\n",
    "\n",
    "        contract = {\n",
    "            'age': age,\n",
    "            'loan_amount': loan_amount,\n",
    "            'currency': currency.value, # Fix within one simulation\n",
    "            'interest_rate': interest_rate,\n",
    "            'maturity': maturity,\n",
    "            'mortality_table': mortality_table.value, # Fix within one simulation\n",
    "            'single_premium': single_premium,\n",
    "            'annual_premium': annual_premium\n",
    "        }\n",
    "        random_contracts.append(contract)\n",
    "\n",
    "    print(random_contracts)\n",
    "\n",
    "    df = pd.DataFrame(random_contracts)\n",
    "    df = df.drop(columns=['currency'])\n",
    "\n",
    "    le = LabelEncoder()\n",
    "    df['mortality_table'] = le.fit_transform(df['mortality_table'])\n",
    "\n",
    "    X = df[['age', 'loan_amount', 'interest_rate', 'maturity', 'mortality_table']]\n",
    "    y1 = df['single_premium']\n",
    "    y2 = df['annual_premium']\n",
    "\n",
    "    scaler = StandardScaler()\n",
    "    X_scaled = scaler.fit_transform(X)\n",
    "\n",
    "    X_train, X_test, y1_train, y1_test = train_test_split(X_scaled, y1, test_size=0.2, random_state=42)\n",
    "    X_train, X_test, y2_train, y2_test = train_test_split(X_scaled, y2, test_size=0.2, random_state=42)\n",
    "\n",
    "    model1 = RandomForestRegressor(n_estimators=100, random_state=42)\n",
    "    model2 = RandomForestRegressor(n_estimators=100, random_state=42)\n",
    "\n",
    "    model1.fit(X_train, y1_train)\n",
    "    model2.fit(X_train, y2_train)\n",
    "\n",
    "    y1_pred = model1.predict(X_test)\n",
    "    y2_pred = model2.predict(X_test)\n",
    "\n",
    "    evaluate_model(y1_test, y1_pred, \"Single Premium\")\n",
    "    evaluate_model(y2_test, y2_pred, \"Annual Premium\")\n",
    "\n",
    "    plot_learning_curve()\n",
    "    mr.Stop()\n",
    "else:\n",
    "    # Input validation\n",
    "    if age and age.value + maturity.value > 100:\n",
    "        mr.Markdown(text=f'#<font color=\"red\">ERROR: With these values no house loan is available. Please check your inputs.</font>')\n",
    "        mr.Stop()"
   ],
   "id": "fdf560a095f292ba",
   "outputs": [],
   "execution_count": 40
  },
  {
   "metadata": {
    "ExecuteTime": {
     "end_time": "2025-02-21T10:19:57.052298Z",
     "start_time": "2025-02-21T10:19:57.040813Z"
    }
   },
   "cell_type": "code",
   "source": [
    "# Stop ploting if it is simulation\n",
    "if admin_toggle.value == True:\n",
    "    mr.Stop()\n",
    "\n",
    "single_premium, annual_premium, annuity_factor_calc, monthly_premium, monthly_annual_premium, monthly_annuity_factor, number_of_payments, periodic_rate, monthly_reimbursed_amount, remaining_amount, interest, amortization, total_reimbursement_amount, cost_of_loan = calculate_contract(age.value, maturity.value, interest_rate.value, amount.value)\n",
    "\n",
    "colors = [\"#F8F9FA\", \"green\", \"#FCE700\", \"#00F5FF\"]\n",
    "mr.Markdown(text=f'#<font color=\"black\">Yearly Payment</font>')\n",
    "mr.NumberBox([\n",
    "    mr.NumberBox(data=float(f\"{single_premium:.2f}\"), title=f\"Single premium ({currency.value})\", background_color=colors[0], border_color=colors[1], data_color=colors[1], title_color=colors[1]),\n",
    "    mr.NumberBox(data=float(f\"{annual_premium:.2f}\"), title=f\"Annual premium ({currency.value})\", background_color=colors[0], border_color=colors[1], data_color=colors[1], title_color=colors[1]),\n",
    "    mr.NumberBox(data=float(f\"{annuity_factor_calc:.3f}\"), title=\"Annuity factor\")\n",
    "])"
   ],
   "id": "486108e24b2218f5",
   "outputs": [
    {
     "data": {
      "text/plain": [
       "<IPython.core.display.Markdown object>"
      ],
      "text/markdown": "#<font color=\"black\">Yearly Payment</font>"
     },
     "metadata": {},
     "output_type": "display_data"
    },
    {
     "data": {
      "text/plain": [
       "<widgets.numberbox.NumberBox at 0x28c14fca2a0>"
      ],
      "text/html": [
       "<style scoped>\n",
       "        .numberbox-container {\n",
       "        width: 100%;\n",
       "        display: flex;\n",
       "        flex-direction: row;\n",
       "        }\n",
       "        @media (max-width: 800px) {\n",
       "        .numberbox-container {\n",
       "            flex-direction: column;\n",
       "        }\n",
       "        }\n",
       "        </style><div class=\"numberbox-container\" style=\"display: flex; background: #fff;\">\n",
       "<div style=\"text-align: center; width: 100%; border: 1px solid green; margin-right: 15px; margin-top: 15px; padding-top: 40px; padding-bottom: 30px; background: #F8F9FA; border-radius:5px\">\n",
       "  <span style=\"font-size: 4em; color: green; font-family: monospace; \">2,914.63</span>\n",
       "  \n",
       "  <span style=\"font-size: 2em; color: green; display: block; padding-top: 20px; font-family: monospace; line-height: 1.3em;\">Single premium (EUR)</span>\n",
       "</div>\n",
       "  \n",
       "<div style=\"text-align: center; width: 100%; border: 1px solid green; margin-right: 15px; margin-top: 15px; padding-top: 40px; padding-bottom: 30px; background: #F8F9FA; border-radius:5px\">\n",
       "  <span style=\"font-size: 4em; color: green; font-family: monospace; \">157.39</span>\n",
       "  \n",
       "  <span style=\"font-size: 2em; color: green; display: block; padding-top: 20px; font-family: monospace; line-height: 1.3em;\">Annual premium (EUR)</span>\n",
       "</div>\n",
       "  \n",
       "<div style=\"text-align: center; width: 100%; border: 1px solid lightgray; margin-right: 0px; margin-top: 15px; padding-top: 40px; padding-bottom: 30px; background: white; border-radius:5px\">\n",
       "  <span style=\"font-size: 4em; color: black; font-family: monospace; \">18.518</span>\n",
       "  \n",
       "  <span style=\"font-size: 2em; color: gray; display: block; padding-top: 20px; font-family: monospace; line-height: 1.3em;\">Annuity factor</span>\n",
       "</div>\n",
       "  </div>"
      ]
     },
     "execution_count": 41,
     "metadata": {},
     "output_type": "execute_result"
    }
   ],
   "execution_count": 41
  },
  {
   "metadata": {
    "ExecuteTime": {
     "end_time": "2025-02-21T10:19:57.095520Z",
     "start_time": "2025-02-21T10:19:57.085211Z"
    }
   },
   "cell_type": "code",
   "source": [
    "mr.Markdown(text=f'#<font color=\"black\">Monthly Payment</font>')\n",
    "mr.NumberBox([\n",
    "    mr.NumberBox(data=float(f\"{monthly_premium:.2f}\"), title=f\"Monthly premium ({currency.value})\"),\n",
    "    mr.NumberBox(data=float(f\"{monthly_annual_premium:.2f}\"), title=f\"Annual premium ({currency.value})\"),\n",
    "    mr.NumberBox(data=float(f\"{monthly_annuity_factor:.3f}\"), title=\"Annuity factor\")\n",
    "])"
   ],
   "id": "860ca544a9cd0aba",
   "outputs": [
    {
     "data": {
      "text/plain": [
       "<IPython.core.display.Markdown object>"
      ],
      "text/markdown": "#<font color=\"black\">Monthly Payment</font>"
     },
     "metadata": {},
     "output_type": "display_data"
    },
    {
     "data": {
      "text/plain": [
       "<widgets.numberbox.NumberBox at 0x28c14fcbb00>"
      ],
      "text/html": [
       "<style scoped>\n",
       "        .numberbox-container {\n",
       "        width: 100%;\n",
       "        display: flex;\n",
       "        flex-direction: row;\n",
       "        }\n",
       "        @media (max-width: 800px) {\n",
       "        .numberbox-container {\n",
       "            flex-direction: column;\n",
       "        }\n",
       "        }\n",
       "        </style><div class=\"numberbox-container\" style=\"display: flex; background: #fff;\">\n",
       "<div style=\"text-align: center; width: 100%; border: 1px solid lightgray; margin-right: 15px; margin-top: 15px; padding-top: 40px; padding-bottom: 30px; background: white; border-radius:5px\">\n",
       "  <span style=\"font-size: 4em; color: black; font-family: monospace; \">13.28</span>\n",
       "  \n",
       "  <span style=\"font-size: 2em; color: gray; display: block; padding-top: 20px; font-family: monospace; line-height: 1.3em;\">Monthly premium (EUR)</span>\n",
       "</div>\n",
       "  \n",
       "<div style=\"text-align: center; width: 100%; border: 1px solid lightgray; margin-right: 15px; margin-top: 15px; padding-top: 40px; padding-bottom: 30px; background: white; border-radius:5px\">\n",
       "  <span style=\"font-size: 4em; color: black; font-family: monospace; \">159.33</span>\n",
       "  \n",
       "  <span style=\"font-size: 2em; color: gray; display: block; padding-top: 20px; font-family: monospace; line-height: 1.3em;\">Annual premium (EUR)</span>\n",
       "</div>\n",
       "  \n",
       "<div style=\"text-align: center; width: 100%; border: 1px solid lightgray; margin-right: 0px; margin-top: 15px; padding-top: 40px; padding-bottom: 30px; background: white; border-radius:5px\">\n",
       "  <span style=\"font-size: 4em; color: black; font-family: monospace; \">18.293</span>\n",
       "  \n",
       "  <span style=\"font-size: 2em; color: gray; display: block; padding-top: 20px; font-family: monospace; line-height: 1.3em;\">Annuity factor</span>\n",
       "</div>\n",
       "  </div>"
      ]
     },
     "execution_count": 42,
     "metadata": {},
     "output_type": "execute_result"
    }
   ],
   "execution_count": 42
  },
  {
   "metadata": {
    "ExecuteTime": {
     "end_time": "2025-02-21T10:19:57.131363Z",
     "start_time": "2025-02-21T10:19:57.111550Z"
    }
   },
   "cell_type": "code",
   "source": [
    "# Balance sheet for year 1\n",
    "# Sum of Assets and Liability should be equal\n",
    "\n",
    "# Assets\n",
    "balance_sheet_annual_premium = annual_premium\n",
    "balance_sheet_interest = balance_sheet_annual_premium * interest_rate.value / 100\n",
    "balance_sheet_sum_of_assets = balance_sheet_annual_premium + balance_sheet_interest\n",
    "\n",
    "# Liability\n",
    "balance_sheet_claims = remaining_amount[12] * (1 - mortality_data[age.value + 1 ] / mortality_data[age.value])\n",
    "balance_sheet_recurrence = (0 + balance_sheet_annual_premium - remaining_amount[12] * (1 / (1 + interest_rate.value / 100)) * n_1qx(age.value+12/12-1, 0)) / ((1 / (1 + interest_rate.value / 100)) * (1 -  n_1qx(age.value+12/12-1, 0)))\n",
    "balance_sheet_reserves = balance_sheet_recurrence * mortality_data[age.value + 1 ] / mortality_data[age.value]\n",
    "balance_sheet_sum_of_liabilities = balance_sheet_claims + balance_sheet_reserves\n",
    "\n",
    "# Validation check: assets should be equal to liabilities\n",
    "if balance_sheet_sum_of_assets - balance_sheet_sum_of_liabilities > tolerance:\n",
    "    mr.Markdown(text=f'#<font color=\"red\">ERROR: The difference between the assets and the liabilities are greater than the tolerance.</font>')\n",
    "\n",
    "mr.Markdown(text=f'#<font color=\"black\">Balance Sheet for Year 1</font>')\n",
    "\n",
    "df = pd.DataFrame(\n",
    "    {\n",
    "        \"Assets\": [\"Annual Premium*\", \"Interest (financial income)\", \"Opening\", \"Sum of Assets\"],\n",
    "        \"Assets Value\": [\n",
    "            f\"{float(balance_sheet_annual_premium):.2f} {currency.value}\",\n",
    "            f\"{float(balance_sheet_interest):.2f} {currency.value}\",\n",
    "            f\"{float(0):.2f} {currency.value}\",\n",
    "            f\"{float(balance_sheet_sum_of_assets):.2f} {currency.value}\"\n",
    "        ],\n",
    "        \"Liability\": [\"Claims\", \"Premium Reserves\", \"\", \"Sum of Liabilities\"],\n",
    "        \"Liability Value\": [\n",
    "            f\"{float(balance_sheet_claims):.2f} {currency.value}\",\n",
    "            f\"{float(balance_sheet_reserves):.2f} {currency.value}\",\n",
    "            \"\",\n",
    "            f\"{float(balance_sheet_sum_of_liabilities):.2f} {currency.value}\"\n",
    "        ]\n",
    "    }\n",
    ")\n",
    "\n",
    "mr.Table(data=df, width=\"150px\", text_align=\"left\")"
   ],
   "id": "bd5de0c3e381251a",
   "outputs": [
    {
     "data": {
      "text/plain": [
       "<IPython.core.display.Markdown object>"
      ],
      "text/markdown": "#<font color=\"black\">Balance Sheet for Year 1</font>"
     },
     "metadata": {},
     "output_type": "display_data"
    },
    {
     "data": {
      "text/plain": [
       "<IPython.core.display.HTML object>"
      ],
      "text/html": [
       "<table id=\"itables_8f06a775_c50c_4dc4_bd46_58d8f8e6da4e\" class=\"display cell-border\" data-quarto-disable-processing=\"true\" style=\"table-layout:auto;width:auto;margin:auto;caption-side:bottom\">\n",
       "<thead>\n",
       "    <tr style=\"text-align: right;\">\n",
       "      \n",
       "      <th>Assets</th>\n",
       "      <th>Assets Value</th>\n",
       "      <th>Liability</th>\n",
       "      <th>Liability Value</th>\n",
       "    </tr>\n",
       "  </thead><tbody><tr>\n",
       "<td style=\"vertical-align:middle; text-align:left\">\n",
       "<a href=https://mwouts.github.io/itables/><svg class=\"main-svg\" xmlns=\"http://www.w3.org/2000/svg\" xmlns:xlink=\"http://www.w3.org/1999/xlink\"\n",
       "width=\"64\" viewBox=\"0 0 500 400\" style=\"font-family: 'Droid Sans', sans-serif;\">\n",
       "    <g style=\"fill:#d9d7fc\">\n",
       "        <path d=\"M100,400H500V357H100Z\" />\n",
       "        <path d=\"M100,300H400V257H100Z\" />\n",
       "        <path d=\"M0,200H400V157H0Z\" />\n",
       "        <path d=\"M100,100H500V57H100Z\" />\n",
       "        <path d=\"M100,350H500V307H100Z\" />\n",
       "        <path d=\"M100,250H400V207H100Z\" />\n",
       "        <path d=\"M0,150H400V107H0Z\" />\n",
       "        <path d=\"M100,50H500V7H100Z\" />\n",
       "    </g>\n",
       "    <g style=\"fill:#1a1366;stroke:#1a1366;\">\n",
       "   <rect x=\"100\" y=\"7\" width=\"400\" height=\"43\">\n",
       "    <animate\n",
       "      attributeName=\"width\"\n",
       "      values=\"0;400;0\"\n",
       "      dur=\"5s\"\n",
       "      repeatCount=\"indefinite\" />\n",
       "      <animate\n",
       "      attributeName=\"x\"\n",
       "      values=\"100;100;500\"\n",
       "      dur=\"5s\"\n",
       "      repeatCount=\"indefinite\" />\n",
       "  </rect>\n",
       "        <rect x=\"0\" y=\"107\" width=\"400\" height=\"43\">\n",
       "    <animate\n",
       "      attributeName=\"width\"\n",
       "      values=\"0;400;0\"\n",
       "      dur=\"3.5s\"\n",
       "      repeatCount=\"indefinite\" />\n",
       "    <animate\n",
       "      attributeName=\"x\"\n",
       "      values=\"0;0;400\"\n",
       "      dur=\"3.5s\"\n",
       "      repeatCount=\"indefinite\" />\n",
       "  </rect>\n",
       "        <rect x=\"100\" y=\"207\" width=\"300\" height=\"43\">\n",
       "    <animate\n",
       "      attributeName=\"width\"\n",
       "      values=\"0;300;0\"\n",
       "      dur=\"3s\"\n",
       "      repeatCount=\"indefinite\" />\n",
       "    <animate\n",
       "      attributeName=\"x\"\n",
       "      values=\"100;100;400\"\n",
       "      dur=\"3s\"\n",
       "      repeatCount=\"indefinite\" />\n",
       "  </rect>\n",
       "        <rect x=\"100\" y=\"307\" width=\"400\" height=\"43\">\n",
       "    <animate\n",
       "      attributeName=\"width\"\n",
       "      values=\"0;400;0\"\n",
       "      dur=\"4s\"\n",
       "      repeatCount=\"indefinite\" />\n",
       "      <animate\n",
       "      attributeName=\"x\"\n",
       "      values=\"100;100;500\"\n",
       "      dur=\"4s\"\n",
       "      repeatCount=\"indefinite\" />\n",
       "  </rect>\n",
       "        <g style=\"fill:transparent;stroke-width:8; stroke-linejoin:round\" rx=\"5\">\n",
       "            <g transform=\"translate(45 50) rotate(-45)\">\n",
       "                <circle r=\"33\" cx=\"0\" cy=\"0\" />\n",
       "                <rect x=\"-8\" y=\"32\" width=\"16\" height=\"30\" />\n",
       "            </g>\n",
       "\n",
       "            <g transform=\"translate(450 152)\">\n",
       "                <polyline points=\"-15,-20 -35,-20 -35,40 25,40 25,20\" />\n",
       "                <rect x=\"-15\" y=\"-40\" width=\"60\" height=\"60\" />\n",
       "            </g>\n",
       "\n",
       "            <g transform=\"translate(50 352)\">\n",
       "                <polygon points=\"-35,-5 0,-40 35,-5\" />\n",
       "                <polygon points=\"-35,10 0,45 35,10\" />\n",
       "            </g>\n",
       "\n",
       "            <g transform=\"translate(75 250)\">\n",
       "                <polyline points=\"-30,30 -60,0 -30,-30\" />\n",
       "                <polyline points=\"0,30 -30,0 0,-30\" />\n",
       "            </g>\n",
       "\n",
       "            <g transform=\"translate(425 250) rotate(180)\">\n",
       "                <polyline points=\"-30,30 -60,0 -30,-30\" />\n",
       "                <polyline points=\"0,30 -30,0 0,-30\" />\n",
       "            </g>\n",
       "        </g>\n",
       "    </g>\n",
       "</svg>\n",
       "</a>\n",
       "Loading ITables v2.2.4 from the internet...\n",
       "(need <a href=https://mwouts.github.io/itables/troubleshooting.html>help</a>?)</td>\n",
       "</tr></tbody>\n",
       "</table>\n",
       "<link href=\"https://www.unpkg.com/dt_for_itables@2.0.13/dt_bundle.css\" rel=\"stylesheet\">\n",
       "<script type=\"module\">\n",
       "    import {DataTable, jQuery as $} from 'https://www.unpkg.com/dt_for_itables@2.0.13/dt_bundle.js';\n",
       "\n",
       "    document.querySelectorAll(\"#itables_8f06a775_c50c_4dc4_bd46_58d8f8e6da4e:not(.dataTable)\").forEach(table => {\n",
       "        if (!(table instanceof HTMLTableElement))\n",
       "            return;\n",
       "\n",
       "        // Define the table data\n",
       "        const data = [[\"Annual Premium*\", \"157.39 EUR\", \"Claims\", \"233.33 EUR\"], [\"Interest (financial income)\", \"3.93 EUR\", \"Premium Reserves\", \"-72.00 EUR\"], [\"Opening\", \"0.00 EUR\", \"\", \"\"], [\"Sum of Assets\", \"161.33 EUR\", \"Sum of Liabilities\", \"161.33 EUR\"]];\n",
       "\n",
       "        // Define the dt_args\n",
       "        let dt_args = {\"columnDefs\": [{\"className\": \"dt-left\", \"width\": \"150px\", \"targets\": \"_all\"}], \"layout\": {\"topStart\": null, \"topEnd\": null, \"bottomStart\": null, \"bottomEnd\": null}, \"order\": [], \"warn_on_selected_rows_not_rendered\": true};\n",
       "        dt_args[\"data\"] = data;\n",
       "\n",
       "        \n",
       "        new DataTable(table, dt_args);\n",
       "    });\n",
       "</script>\n"
      ]
     },
     "metadata": {},
     "output_type": "display_data"
    }
   ],
   "execution_count": 43
  },
  {
   "metadata": {
    "ExecuteTime": {
     "end_time": "2025-02-21T10:19:57.164168Z",
     "start_time": "2025-02-21T10:19:57.156002Z"
    }
   },
   "cell_type": "code",
   "source": "print(\"* We are using annual premium with yearly payment for balance sheet calculations.\")",
   "id": "32edd5286002808b",
   "outputs": [
    {
     "name": "stdout",
     "output_type": "stream",
     "text": [
      "* We are using annual premium with yearly payment for balance sheet calculations.\n"
     ]
    }
   ],
   "execution_count": 44
  },
  {
   "metadata": {
    "ExecuteTime": {
     "end_time": "2025-02-21T10:19:57.189369Z",
     "start_time": "2025-02-21T10:19:57.184642Z"
    }
   },
   "cell_type": "code",
   "source": [
    "if details_toggle.value == False:\n",
    "    mr.Stop()\n",
    "\n",
    "# Detailed calculation\n",
    "mr.Markdown(text=f'#<font color=\"black\">Detailed calculation</font>')\n",
    "\n",
    "mr.Markdown(text=f'###<font color=\"black\">Number of payments / Durations (month): {number_of_payments:.0f}</font>')\n",
    "mr.Markdown(text=f'###<font color=\"black\">Periodic rate: {periodic_rate * 100:.4f} %</font>')\n",
    "mr.Markdown(text=f'###<font color=\"black\">Cost of loan: {cost_of_loan:.2f} {currency.value}</font>')\n",
    "mr.Markdown(text=f'###<font color=\"black\">Total reimbursement amount: {total_reimbursement_amount:.2f} {currency.value}</font>')\n",
    "mr.Markdown(text=f'#') # spacer\n",
    "mr.Markdown(text=f'#') # spacer\n",
    "\n",
    "num_rows = len(amortization)\n",
    "\n",
    "remaining_amount = remaining_amount\n",
    "interest[0] = pd.NA\n",
    "amortization[0] = pd.NA\n",
    "monthly_reimbursed_amount_array = [monthly_reimbursed_amount] * (num_rows)\n",
    "monthly_reimbursed_amount_with_insurance_array = [monthly_reimbursed_amount + monthly_premium] * (num_rows)\n",
    "beginning_remaining_amount = [pd.NA] + remaining_amount[:-1]\n",
    "\n",
    "detailed_calc = pd.DataFrame({\n",
    "    \"Remaining amount (beginning of the year) (Ck-1)\": beginning_remaining_amount,\n",
    "    \"Interest (Ik)\": interest,\n",
    "    \"Amortization (Ak)\": amortization,\n",
    "    \"Monthly reimbursed amount (Ek)\": monthly_reimbursed_amount_array,\n",
    "    \"Monthly reimbursed amount with insurance\": monthly_reimbursed_amount_with_insurance_array,\n",
    "    \"Remaining amount (end of the year) (Ck)\": remaining_amount,\n",
    "})\n",
    "\n",
    "pd.set_option(\"display.max_rows\", None)\n",
    "pd.set_option(\"display.max_columns\", None)\n",
    "pd.set_option(\"display.width\", 0)\n",
    "pd.set_option(\"display.expand_frame_repr\", False)\n",
    "\n",
    "detailed_calc.index.name = \"Month\"\n",
    "styled_table = detailed_calc.style.set_table_attributes('style=\"display:inline\"') \\\n",
    "                                   .set_caption(\"Detailed Calculation Overview\") \\\n",
    "                                   .set_table_styles([\n",
    "                                       {'selector': 'thead th', 'props': [('background-color', '#D3D3D3'), ('color', 'black'), ('font-weight', 'bold')]},\n",
    "                                       {'selector': 'index', 'props': [('text-align', 'center'), ('font-weight', 'bold')]},\n",
    "                                       {'selector': 'table', 'props': [('border-collapse', 'collapse'), ('border', '1px solid black')]},\n",
    "                                       {'selector': 'thead', 'props': [('border', '1px solid black')]},\n",
    "                                       {'selector': 'tbody', 'props': [('border', '1px solid black')]},\n",
    "                                   ])\n",
    "\n",
    "\n",
    "# Display the styled DataFrame\n",
    "display(styled_table)"
   ],
   "id": "4707d7edac093477",
   "outputs": [],
   "execution_count": null
  },
  {
   "metadata": {},
   "cell_type": "code",
   "outputs": [],
   "execution_count": null,
   "source": [
    "# Mortality table details\n",
    "mr.Markdown(text=f'#<font color=\"black\">Mortality table details</font>')\n",
    "mr.Markdown(text=f'###<font color=\"black\">Chosen table: {mortality_table.value}</font>')\n",
    "\n",
    "df_mortality_data = pd.DataFrame(list(mortality_data.items()), columns=[\"Age (x)\", \"lx\"])\n",
    "\n",
    "# Display the table\n",
    "df_mortality_data"
   ],
   "id": "e4cef4a92d8878bf"
  }
 ],
 "metadata": {
  "kernelspec": {
   "display_name": "Python 3",
   "language": "python",
   "name": "python3"
  },
  "language_info": {
   "codemirror_mode": {
    "name": "ipython",
    "version": 2
   },
   "file_extension": ".py",
   "mimetype": "text/x-python",
   "name": "python",
   "nbconvert_exporter": "python",
   "pygments_lexer": "ipython2",
   "version": "2.7.6"
  }
 },
 "nbformat": 4,
 "nbformat_minor": 5
}
