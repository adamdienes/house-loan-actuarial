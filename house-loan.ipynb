{
 "cells": [
  {
   "metadata": {
    "collapsed": true
   },
   "cell_type": "code",
   "outputs": [],
   "execution_count": null,
   "source": [
    "import mercury as mr\n",
    "import csv\n",
    "\n",
    "show_code = mr.Checkbox(value=False, label=\"Show source code\")\n",
    "app = mr.App(\n",
    "    title=\"Loan House Calculation\",\n",
    "    description=\"Actuarial Mathematics\",\n",
    "    show_code=show_code.value,\n",
    "    continuous_update=False\n",
    ")\n",
    "_ = mr.Note(text=\"---\")\n",
    "\n",
    "age = mr.Numeric(label=\"Age (Years)\", value=22, min=18, max=100)\n",
    "amount = mr.Numeric(label=\"Loan Amount (EUR)\", min=0, value=150000, max=999999999999)\n",
    "interest_rate = mr.Numeric(label=\"Yearly Interest Rate (%)\", value=2.5, min=0.0, max=100.0, step=0.1)\n",
    "maturity = mr.Numeric(label=\"Maturity (Years)\", value=25, min=1, max=50)\n",
    "mortality_table = mr.Select(value = \"TD88-90 (France)\", choices = [\"TD88-90 (France)\"], label = \"Select Mortality Table\")\n",
    "\n",
    "_ = mr.Note(text=\"---\")\n",
    "_ = mr.Note(\"Please fill out the inputs above and click the green _Run_ button to calculate the result.\")"
   ],
   "id": "initial_id"
  },
  {
   "metadata": {
    "ExecuteTime": {
     "end_time": "2025-02-18T23:23:07.309652Z",
     "start_time": "2025-02-18T23:23:07.302499Z"
    }
   },
   "cell_type": "code",
   "source": [
    "# Input validation\n",
    "if age.value + maturity.value > 100:\n",
    "    print(\"With these values no house loan is available.\")\n",
    "    mr.Stop()"
   ],
   "id": "fdf560a095f292ba",
   "outputs": [],
   "execution_count": 128
  },
  {
   "metadata": {
    "ExecuteTime": {
     "end_time": "2025-02-18T23:21:07.681606Z",
     "start_time": "2025-02-18T23:21:07.634165Z"
    }
   },
   "cell_type": "code",
   "source": [
    "\n",
    "\n",
    "# Load mortality table based on selection\n",
    "if mortality_table.value == \"TD88-90 (France)\":\n",
    "    with open(\"TD88-90.csv\", \"r\") as file:\n",
    "        reader = csv.reader(file)\n",
    "        next(reader)  # Skip the header\n",
    "        mortality_data = {int(row[0]): int(row[1]) for row in reader}\n",
    "\n",
    "print(f\"Successfully loaded {len(mortality_data)} entries from {mortality_table.value} mortality table.\")\n",
    "\n",
    "# Basic calculations\n",
    "number_of_payments = int(maturity.value * 12) # input is in years\n",
    "periodic_rate = interest_rate.value / 12 / 100 # input is yearly + should be divided by 100\n",
    "monthly_reimbursed_amount = (amount.value * periodic_rate) / (1 - (1 + periodic_rate) ** -number_of_payments)\n",
    "\n",
    "print(\"----\")\n",
    "print(f\"Number of payments: {number_of_payments}\")\n",
    "print(f\"Periodic rate: {periodic_rate:.6f}\" + \"%\")\n",
    "print(f\"Total amount: {amount.value:.0f}\")\n",
    "print(f\"Monthly reimbursed amount: {monthly_reimbursed_amount:.6f} EUR\")\n",
    "\n",
    "# Calculate for each month\n",
    "remaining_amount = []\n",
    "interest = []\n",
    "amortization = []\n",
    "tolerance = 1e-7\n",
    "\n",
    "for i in range(0, number_of_payments + 1):\n",
    "    # Special cases on the 0 month\n",
    "    if i == 0:\n",
    "        remaining_amount.append(amount.value)\n",
    "        interest.append(0)\n",
    "        amortization.append(0)\n",
    "        continue\n",
    "\n",
    "    # Remaining amount (end of the year) Ck\n",
    "    # Using tolerance for the last element (not perfect zero)\n",
    "    calculated_value = (1 + periodic_rate) * remaining_amount[-1] - monthly_reimbursed_amount\n",
    "    remaining_amount.append(0 if calculated_value < tolerance else calculated_value)\n",
    "\n",
    "    # Interest Ik\n",
    "    interest.append(remaining_amount[i-1] * periodic_rate)\n",
    "    # Amortization Ak\n",
    "    amortization.append(monthly_reimbursed_amount - interest[i])\n",
    "\n",
    "total_reimbursement_amount = sum(amortization)\n",
    "cost_of_loan = sum(interest)\n",
    "\n",
    "print(\"----\")\n",
    "print(f\"Total reimbursement amount: {total_reimbursement_amount:.2f}\")\n",
    "print(f\"Cost of loan: {cost_of_loan:.2f}\")\n",
    "\n",
    "# Details calculation\n",
    "k = 0\n",
    "discounted_amount_in_risks = []\n",
    "\n",
    "for i in range(1, len(remaining_amount)):\n",
    "    if i % 12 == 0:\n",
    "        benefit_akprime = remaining_amount[i]\n",
    "        discount_factor = (1 / (1 + interest_rate.value / 100)) ** (k+1)\n",
    "        probability = (mortality_data[age.value+k] - mortality_data[age.value+k+1]) / mortality_data[age.value]\n",
    "        discounted_amount_in_risk = benefit_akprime * discount_factor * probability\n",
    "        discounted_amount_in_risks.append(discounted_amount_in_risk)\n",
    "        k += 1\n",
    "total_discounted_amount_in_risk = sum(discounted_amount_in_risks)\n",
    "single_premium = total_discounted_amount_in_risk\n",
    "\n",
    "print(f\"Total discounted amount in risks: {total_discounted_amount_in_risk:.2f}\")\n",
    "print(f\"Single premium (yearly payment): {single_premium:.2f}\")"
   ],
   "id": "fe822ec0362650f7",
   "outputs": [
    {
     "name": "stdout",
     "output_type": "stream",
     "text": [
      "Successfully loaded 107 entries from TD88-90 mortality table.\n",
      "----\n",
      "Number of payments: 300\n",
      "Periodic rate: 0.002083%\n",
      "Total amount: 150000\n",
      "Monthly reimbursed amount: 672.925101 EUR\n",
      "----\n",
      "Total reimbursement amount: 150000.00\n",
      "Cost of loan: 51877.53\n",
      "Total discounted amount in risks: 2914.63\n",
      "Single premium (yearly payment): 2914.63\n"
     ]
    }
   ],
   "execution_count": 127
  },
  {
   "metadata": {},
   "cell_type": "code",
   "source": "",
   "id": "486108e24b2218f5",
   "outputs": [],
   "execution_count": null
  },
  {
   "metadata": {},
   "cell_type": "code",
   "source": "",
   "id": "860ca544a9cd0aba",
   "outputs": [],
   "execution_count": null
  }
 ],
 "metadata": {
  "kernelspec": {
   "display_name": "Python 3",
   "language": "python",
   "name": "python3"
  },
  "language_info": {
   "codemirror_mode": {
    "name": "ipython",
    "version": 2
   },
   "file_extension": ".py",
   "mimetype": "text/x-python",
   "name": "python",
   "nbconvert_exporter": "python",
   "pygments_lexer": "ipython2",
   "version": "2.7.6"
  }
 },
 "nbformat": 4,
 "nbformat_minor": 5
}
