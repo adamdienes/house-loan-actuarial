{
 "cells": [
  {
   "metadata": {
    "ExecuteTime": {
     "end_time": "2025-02-19T16:14:13.880488Z",
     "start_time": "2025-02-19T16:14:13.864919Z"
    }
   },
   "cell_type": "code",
   "source": [
    "# Imports and global tolerance\n",
    "import mercury as mr\n",
    "import pandas as pd\n",
    "import random\n",
    "import csv\n",
    "\n",
    "import pandas as pd\n",
    "import numpy as np\n",
    "from sklearn.model_selection import train_test_split\n",
    "from sklearn.linear_model import LinearRegression\n",
    "from sklearn.metrics import mean_squared_error, r2_score\n",
    "\n",
    "tolerance = 1e-7"
   ],
   "id": "ac77557155c0f917",
   "outputs": [],
   "execution_count": 67
  },
  {
   "metadata": {
    "collapsed": true,
    "ExecuteTime": {
     "end_time": "2025-02-19T16:14:14.025014Z",
     "start_time": "2025-02-19T16:14:13.888296Z"
    }
   },
   "cell_type": "code",
   "source": [
    "# User interface inputs\n",
    "show_code = mr.Checkbox(value=False, label=\"Show source code\")\n",
    "app = mr.App(\n",
    "    title=\"Loan House Calculation\",\n",
    "    description=\"Actuarial Mathematics\",\n",
    "    show_code=show_code.value,\n",
    "    continuous_update=True\n",
    ")\n",
    "\n",
    "admin_toggle = mr.Checkbox(value=False, label=\"Enable Admin Mode (Simulate Random Contracts)\")\n",
    "_ = mr.Note(text=\"---\")\n",
    "\n",
    "if admin_toggle.value == True:\n",
    "    num_contracts = mr.Numeric(label=\"Number of Random Contracts\", value=10, min=1, max=1000)\n",
    "else:\n",
    "    age = mr.Numeric(label=\"Age (Years)\", value=22, min=18, max=100)\n",
    "    amount = mr.Numeric(label=\"Loan Amount\", min=0, value=150000, max=999999999999)\n",
    "    interest_rate = mr.Numeric(label=\"Yearly Interest Rate (%)\", value=2.5, min=0.0, max=100.0, step=0.1)\n",
    "    maturity = mr.Numeric(label=\"Maturity (Years)\", value=25, min=1, max=50)\n",
    "\n",
    "mortality_table = mr.Select(value = \"TD88-90 (France)\", choices = [\"TD88-90 (France)\", \"TH00-02 (France)\"], label = \"Select Mortality Table\")\n",
    "currency = mr.Select(value = \"EUR\", choices = [\"EUR\", \"USD\", \"GBP\"], label = \"Select Currency\")"
   ],
   "id": "initial_id",
   "outputs": [
    {
     "data": {
      "application/vnd.jupyter.widget-view+json": {
       "version_major": 2,
       "version_minor": 0,
       "model_id": "291b6f36e55d47afb64956e6d504080e"
      },
      "application/mercury+json": "{\n    \"widget\": \"Checkbox\",\n    \"value\": false,\n    \"label\": \"Show source code\",\n    \"model_id\": \"291b6f36e55d47afb64956e6d504080e\",\n    \"code_uid\": \"Checkbox.0.50.70.2-rand1847e66f\",\n    \"url_key\": \"\",\n    \"disabled\": false,\n    \"hidden\": false\n}",
      "text/plain": [
       "mercury.Checkbox"
      ]
     },
     "metadata": {},
     "output_type": "display_data"
    },
    {
     "data": {
      "text/plain": [
       "mercury.App"
      ],
      "text/html": [
       "<h3>Mercury Application</h3><small>This output won't appear in the web app.</small>"
      ],
      "application/mercury+json": "{\n    \"widget\": \"App\",\n    \"title\": \"Loan House Calculation\",\n    \"description\": \"Actuarial Mathematics\",\n    \"show_code\": false,\n    \"show_prompt\": false,\n    \"output\": \"app\",\n    \"schedule\": \"\",\n    \"notify\": \"{}\",\n    \"continuous_update\": true,\n    \"static_notebook\": false,\n    \"show_sidebar\": true,\n    \"full_screen\": true,\n    \"allow_download\": true,\n    \"allow_share\": true,\n    \"stop_on_error\": false,\n    \"model_id\": \"mercury-app\",\n    \"code_uid\": \"App.0.50.110.3-randd7b9820c\"\n}"
     },
     "metadata": {},
     "output_type": "display_data"
    },
    {
     "data": {
      "application/vnd.jupyter.widget-view+json": {
       "version_major": 2,
       "version_minor": 0,
       "model_id": "deafc10a26404c1dbc3995d41db436e5"
      },
      "application/mercury+json": "{\n    \"widget\": \"Checkbox\",\n    \"value\": false,\n    \"label\": \"Enable Admin Mode (Simulate Random Contracts)\",\n    \"model_id\": \"deafc10a26404c1dbc3995d41db436e5\",\n    \"code_uid\": \"Checkbox.0.50.70.10-randdee3c88d\",\n    \"url_key\": \"\",\n    \"disabled\": false,\n    \"hidden\": false\n}",
      "text/plain": [
       "mercury.Checkbox"
      ]
     },
     "metadata": {},
     "output_type": "display_data"
    },
    {
     "data": {
      "application/mercury+json": "{\n    \"widget\": \"Note\",\n    \"value\": \"---\",\n    \"model_id\": \"Note.0.50.45.11-randb1fd4fa0\",\n    \"code_uid\": \"Note.0.50.45.11-randb1fd4fa0\"\n}",
      "text/markdown": "---",
      "text/plain": [
       "mercury.Note"
      ]
     },
     "metadata": {},
     "output_type": "display_data"
    },
    {
     "data": {
      "application/vnd.jupyter.widget-view+json": {
       "version_major": 2,
       "version_minor": 0,
       "model_id": "e5f5e8b92c8b450b8ab13d42db763b0e"
      },
      "application/mercury+json": "{\n    \"widget\": \"Numeric\",\n    \"value\": 22.0,\n    \"min\": 18.0,\n    \"max\": 100.0,\n    \"step\": 1.0,\n    \"label\": \"Age (Years)\",\n    \"model_id\": \"e5f5e8b92c8b450b8ab13d42db763b0e\",\n    \"code_uid\": \"Numeric.0.50.101.16-rand79d6f339\",\n    \"url_key\": \"\",\n    \"disabled\": false,\n    \"hidden\": false\n}",
      "text/plain": [
       "mercury.Numeric"
      ]
     },
     "metadata": {},
     "output_type": "display_data"
    },
    {
     "data": {
      "application/vnd.jupyter.widget-view+json": {
       "version_major": 2,
       "version_minor": 0,
       "model_id": "a3998fb6fcfe4598ab71c583ac8aa069"
      },
      "application/mercury+json": "{\n    \"widget\": \"Numeric\",\n    \"value\": 150000.0,\n    \"min\": 0.0,\n    \"max\": 999999999999.0,\n    \"step\": 1.0,\n    \"label\": \"Loan Amount\",\n    \"model_id\": \"a3998fb6fcfe4598ab71c583ac8aa069\",\n    \"code_uid\": \"Numeric.0.50.101.17-rand2f9e75d6\",\n    \"url_key\": \"\",\n    \"disabled\": false,\n    \"hidden\": false\n}",
      "text/plain": [
       "mercury.Numeric"
      ]
     },
     "metadata": {},
     "output_type": "display_data"
    },
    {
     "data": {
      "application/vnd.jupyter.widget-view+json": {
       "version_major": 2,
       "version_minor": 0,
       "model_id": "947b2d6324b848ed990471517db77e06"
      },
      "application/mercury+json": "{\n    \"widget\": \"Numeric\",\n    \"value\": 2.5,\n    \"min\": 0.0,\n    \"max\": 100.0,\n    \"step\": 0.1,\n    \"label\": \"Yearly Interest Rate (%)\",\n    \"model_id\": \"947b2d6324b848ed990471517db77e06\",\n    \"code_uid\": \"Numeric.0.50.101.18-randd95403c6\",\n    \"url_key\": \"\",\n    \"disabled\": false,\n    \"hidden\": false\n}",
      "text/plain": [
       "mercury.Numeric"
      ]
     },
     "metadata": {},
     "output_type": "display_data"
    },
    {
     "data": {
      "application/vnd.jupyter.widget-view+json": {
       "version_major": 2,
       "version_minor": 0,
       "model_id": "b956d9d6b38d4729bfbf65fb21634ad8"
      },
      "application/mercury+json": "{\n    \"widget\": \"Numeric\",\n    \"value\": 25.0,\n    \"min\": 1.0,\n    \"max\": 50.0,\n    \"step\": 1.0,\n    \"label\": \"Maturity (Years)\",\n    \"model_id\": \"b956d9d6b38d4729bfbf65fb21634ad8\",\n    \"code_uid\": \"Numeric.0.50.101.19-rande341a4ab\",\n    \"url_key\": \"\",\n    \"disabled\": false,\n    \"hidden\": false\n}",
      "text/plain": [
       "mercury.Numeric"
      ]
     },
     "metadata": {},
     "output_type": "display_data"
    },
    {
     "data": {
      "application/vnd.jupyter.widget-view+json": {
       "version_major": 2,
       "version_minor": 0,
       "model_id": "442db4186770464e8b370864555aa314"
      },
      "application/mercury+json": "{\n    \"widget\": \"Select\",\n    \"value\": \"TD88-90 (France)\",\n    \"choices\": [\n        \"TD88-90 (France)\",\n        \"TH00-02 (France)\"\n    ],\n    \"label\": \"Select Mortality Table\",\n    \"model_id\": \"442db4186770464e8b370864555aa314\",\n    \"code_uid\": \"Select.0.50.104.21-rand342403a1\",\n    \"url_key\": \"\",\n    \"disabled\": false,\n    \"hidden\": false\n}",
      "text/plain": [
       "mercury.Select"
      ]
     },
     "metadata": {},
     "output_type": "display_data"
    },
    {
     "data": {
      "application/vnd.jupyter.widget-view+json": {
       "version_major": 2,
       "version_minor": 0,
       "model_id": "7142ea7152cd46258b75b100c917c8c5"
      },
      "application/mercury+json": "{\n    \"widget\": \"Select\",\n    \"value\": \"EUR\",\n    \"choices\": [\n        \"EUR\",\n        \"USD\",\n        \"GBP\"\n    ],\n    \"label\": \"Select Currency\",\n    \"model_id\": \"7142ea7152cd46258b75b100c917c8c5\",\n    \"code_uid\": \"Select.0.50.104.22-rand221ae166\",\n    \"url_key\": \"\",\n    \"disabled\": false,\n    \"hidden\": false\n}",
      "text/plain": [
       "mercury.Select"
      ]
     },
     "metadata": {},
     "output_type": "display_data"
    }
   ],
   "execution_count": 68
  },
  {
   "metadata": {
    "ExecuteTime": {
     "end_time": "2025-02-19T16:14:14.075456Z",
     "start_time": "2025-02-19T16:14:14.047533Z"
    }
   },
   "cell_type": "code",
   "source": [
    "_ = mr.Note(text=\"---\")\n",
    "_ = mr.Note(\"Please fill out the inputs above and click _Apply_ or hit Enter to calculate the result.\")"
   ],
   "id": "f009ebb8c0842082",
   "outputs": [
    {
     "data": {
      "application/mercury+json": "{\n    \"widget\": \"Note\",\n    \"value\": \"---\",\n    \"model_id\": \"Note.0.50.45.1-randc0d2deff\",\n    \"code_uid\": \"Note.0.50.45.1-randc0d2deff\"\n}",
      "text/markdown": "---",
      "text/plain": [
       "mercury.Note"
      ]
     },
     "metadata": {},
     "output_type": "display_data"
    },
    {
     "data": {
      "application/mercury+json": "{\n    \"widget\": \"Note\",\n    \"value\": \"Please fill out the inputs above and click _Apply_ or hit Enter to calculate the result.\",\n    \"model_id\": \"Note.0.50.45.2-rand56c4bc1d\",\n    \"code_uid\": \"Note.0.50.45.2-rand56c4bc1d\"\n}",
      "text/markdown": "Please fill out the inputs above and click _Apply_ or hit Enter to calculate the result.",
      "text/plain": [
       "mercury.Note"
      ]
     },
     "metadata": {},
     "output_type": "display_data"
    }
   ],
   "execution_count": 69
  },
  {
   "metadata": {},
   "cell_type": "code",
   "outputs": [],
   "execution_count": null,
   "source": [
    "# Load mortality table based on selection\n",
    "if mortality_table.value == \"TD88-90 (France)\":\n",
    "    with open(\"TD88-90.csv\", \"r\") as file:\n",
    "        reader = csv.reader(file)\n",
    "        next(reader)  # Skip the header\n",
    "        mortality_data = {int(row[0]): int(row[1]) for row in reader}\n",
    "\n",
    "if mortality_table.value == \"TH00-02 (France)\":\n",
    "    with open(\"TH00-02.csv\", \"r\") as file:\n",
    "        reader = csv.reader(file)\n",
    "        next(reader)  # Skip the header\n",
    "        mortality_data = {int(row[0]): int(row[1]) for row in reader}\n",
    "\n",
    "# print(f\"Successfully loaded {len(mortality_data)} entries from {mortality_table.value} mortality table.\")"
   ],
   "id": "8f511ac672ff02f9"
  },
  {
   "metadata": {
    "ExecuteTime": {
     "end_time": "2025-02-19T16:14:14.114191Z",
     "start_time": "2025-02-19T16:14:14.106693Z"
    }
   },
   "cell_type": "code",
   "source": [
    "# Helper functions\n",
    "def annuity_factor(x, m, tech_rate):\n",
    "    act_sum = 0\n",
    "    for i in range(0, m):\n",
    "        act_sum += nex(x, i, tech_rate)\n",
    "    return act_sum\n",
    "\n",
    "def nex(x, n, tech_rate):\n",
    "    return npx(x, n) * techDF(n, tech_rate)\n",
    "\n",
    "def npx(x ,n):\n",
    "    return mortality_data[x+n] / mortality_data[x]\n",
    "\n",
    "def techDF(n, tech_rate):\n",
    "    return 1 / ((1 + tech_rate) ** n)\n",
    "\n",
    "def n_1qx(x, n):\n",
    "    return (mortality_data[x+n] - mortality_data[x+n+1]) / mortality_data[x]"
   ],
   "id": "35c7e534de64e263",
   "outputs": [],
   "execution_count": 70
  },
  {
   "metadata": {
    "ExecuteTime": {
     "end_time": "2025-02-19T16:14:14.136759Z",
     "start_time": "2025-02-19T16:14:14.126728Z"
    }
   },
   "cell_type": "code",
   "source": [
    "# Core logic\n",
    "def calculate_contract(p_age, p_maturity, p_interest, p_amount):\n",
    "    number_of_payments = int(p_maturity * 12) # input is in years\n",
    "    periodic_rate = p_interest / 12 / 100 # input is yearly + should be divided by 100\n",
    "    monthly_reimbursed_amount = (p_amount * periodic_rate) / (1 - (1 + periodic_rate) ** -number_of_payments)\n",
    "\n",
    "    '''\n",
    "    print(\"----\")\n",
    "    print(f\"Number of payments: {number_of_payments}\")\n",
    "    print(f\"Periodic rate: {periodic_rate:.6f}\" + \"%\")\n",
    "    print(f\"Total amount: {amount.value:,.0f} {currency.value}\")\n",
    "    print(f\"Monthly reimbursed amount: {monthly_reimbursed_amount:.6f} {currency.value}\")\n",
    "    '''\n",
    "\n",
    "    # Calculate for each month\n",
    "    remaining_amount = []\n",
    "    interest = []\n",
    "    amortization = []\n",
    "\n",
    "    for i in range(0, number_of_payments + 1):\n",
    "        # Special cases on the 0 month\n",
    "        if i == 0:\n",
    "            remaining_amount.append(p_amount)\n",
    "            interest.append(0)\n",
    "            amortization.append(0)\n",
    "            continue\n",
    "\n",
    "        # Remaining amount (end of the year) Ck\n",
    "        # Using tolerance for the last element (not perfect zero)\n",
    "        calculated_value = (1 + periodic_rate) * remaining_amount[-1] - monthly_reimbursed_amount\n",
    "        remaining_amount.append(0 if calculated_value < tolerance else calculated_value)\n",
    "\n",
    "        # Interest Ik\n",
    "        interest.append(remaining_amount[i-1] * periodic_rate)\n",
    "        # Amortization Ak\n",
    "        amortization.append(monthly_reimbursed_amount - interest[i])\n",
    "\n",
    "    total_reimbursement_amount = sum(amortization)\n",
    "    cost_of_loan = sum(interest)\n",
    "    # print(f\"Total reimbursement amount: {total_reimbursement_amount:.2f} {currency.value}\")\n",
    "    # print(f\"Cost of loan: {cost_of_loan:.2f} {currency.value}\")\n",
    "\n",
    "    # Yearly payment calculations\n",
    "    k = 0\n",
    "    discounted_amount_in_risks = []\n",
    "\n",
    "    for i in range(1, len(remaining_amount)):\n",
    "        if i % 12 == 0:\n",
    "            benefit_akprime = remaining_amount[i]\n",
    "            discount_factor = (1 / (1 + p_interest / 100)) ** (k+1)\n",
    "            probability = (mortality_data[p_age+k] - mortality_data[p_age+k+1]) / mortality_data[p_age]\n",
    "            discounted_amount_in_risk = benefit_akprime * discount_factor * probability\n",
    "            discounted_amount_in_risks.append(discounted_amount_in_risk)\n",
    "            k += 1\n",
    "    total_discounted_amount_in_risk = sum(discounted_amount_in_risks)\n",
    "    single_premium = total_discounted_amount_in_risk\n",
    "\n",
    "    annuity_factor_calc = annuity_factor(int(p_age), int(p_maturity), p_interest / 100)\n",
    "    annual_premium = single_premium / annuity_factor_calc\n",
    "\n",
    "    # Monthly payment calculations\n",
    "    monthly_annuity_factor = annuity_factor_calc - ((12 - 1 )/( 2 * 12)) * (1 - nex(p_age, p_maturity, p_interest / 100))\n",
    "    monthly_annual_premium = single_premium / monthly_annuity_factor\n",
    "    monthly_premium = monthly_annual_premium / 12\n",
    "\n",
    "    # Return all necessary calculated values for the frontend\n",
    "    return single_premium, annual_premium, annuity_factor_calc, monthly_premium, monthly_annual_premium, monthly_annuity_factor, remaining_amount\n"
   ],
   "id": "6dfaf0f40ab711d",
   "outputs": [],
   "execution_count": 71
  },
  {
   "metadata": {
    "ExecuteTime": {
     "end_time": "2025-02-19T16:14:14.158846Z",
     "start_time": "2025-02-19T16:14:14.151807Z"
    }
   },
   "cell_type": "code",
   "source": [
    "# If admin simulation\n",
    "if admin_toggle.value == True:\n",
    "    random_contracts = []\n",
    "    for _ in range(int(num_contracts.value)):\n",
    "        age = random.randint(18, 90)  # Generate the age once per contract\n",
    "        loan_amount = random.randint(10000, 1000000)\n",
    "        interest_rate = random.uniform(0.5, 10.0)\n",
    "        maturity = random.randint(1, 100 - age) # upper do not to overflow the mortality table\n",
    "\n",
    "        single_premium, annual_premium, annuity_factor_calc, monthly_premium, monthly_annual_premium, monthly_annuity_factor, remaining_amount = calculate_contract(age, maturity, interest_rate, loan_amount)\n",
    "\n",
    "        contract = {\n",
    "            'age': age,\n",
    "            'loan_amount': loan_amount,\n",
    "            'currency': currency.value,  # Fix within one simulation\n",
    "            'interest_rate': interest_rate,\n",
    "            'maturity': maturity,\n",
    "            'mortality_table': mortality_table.value,  # Fix within one simulation\n",
    "            'single_premium': single_premium,\n",
    "            'annual_premium': annual_premium\n",
    "        }\n",
    "        random_contracts.append(contract)\n",
    "\n",
    "    print(random_contracts)\n",
    "\n",
    "    df = pd.DataFrame(random_contracts)\n",
    "\n",
    "    # Feature selection\n",
    "    X = df[['age', 'loan_amount', 'interest_rate', 'maturity']]\n",
    "    y_annual = df['annual_premium']\n",
    "    y_monthly = df['single_premium']\n",
    "\n",
    "    # Split the data\n",
    "    X_train, X_test, y_train_annual, y_test_annual = train_test_split(X, y_annual, test_size=0.2, random_state=42)\n",
    "    X_train, X_test, y_train_monthly, y_test_monthly = train_test_split(X, y_monthly, test_size=0.2, random_state=42)\n",
    "\n",
    "    # Train the linear regression model\n",
    "    model_annual = LinearRegression()\n",
    "    model_annual.fit(X_train, y_train_annual)\n",
    "\n",
    "    model_monthly = LinearRegression()\n",
    "    model_monthly.fit(X_train, y_train_monthly)\n",
    "\n",
    "    # Predictions\n",
    "    y_pred_annual = model_annual.predict(X_test)\n",
    "    y_pred_monthly = model_monthly.predict(X_test)\n",
    "\n",
    "    # Evaluate the model\n",
    "    mse_annual = mean_squared_error(y_test_annual, y_pred_annual)\n",
    "    r2_annual = r2_score(y_test_annual, y_pred_annual)\n",
    "\n",
    "    mse_monthly = mean_squared_error(y_test_monthly, y_pred_monthly)\n",
    "    r2_monthly = r2_score(y_test_monthly, y_pred_monthly)\n",
    "\n",
    "    print(f\"Annual Premium Model: MSE={mse_annual}, R2={r2_annual}\")\n",
    "    print(f\"Monthly Premium Model: MSE={mse_monthly}, R2={r2_monthly}\")\n",
    "    mr.Stop()\n",
    "else:\n",
    "    # Input validation\n",
    "    if age and age.value + maturity.value > 100:\n",
    "        mr.Markdown(text=f'#<font color=\"red\">ERROR: With these values no house loan is available. Please check your inputs.</font>')\n",
    "        mr.Stop()"
   ],
   "id": "fdf560a095f292ba",
   "outputs": [],
   "execution_count": 72
  },
  {
   "metadata": {
    "ExecuteTime": {
     "end_time": "2025-02-19T16:14:14.187565Z",
     "start_time": "2025-02-19T16:14:14.180543Z"
    }
   },
   "cell_type": "code",
   "source": "",
   "id": "fe822ec0362650f7",
   "outputs": [],
   "execution_count": 73
  },
  {
   "metadata": {
    "ExecuteTime": {
     "end_time": "2025-02-19T16:14:14.210953Z",
     "start_time": "2025-02-19T16:14:14.200592Z"
    }
   },
   "cell_type": "code",
   "source": [
    "# Stop ploting if it is simulation\n",
    "if admin_toggle.value == True:\n",
    "    mr.Stop()\n",
    "\n",
    "single_premium, annual_premium, annuity_factor_calc, monthly_premium, monthly_annual_premium, monthly_annuity_factor, remaining_amount = calculate_contract(age.value, maturity.value, interest_rate.value, amount.value)\n",
    "\n",
    "colors = [\"#F8F9FA\", \"green\", \"#FCE700\", \"#00F5FF\"]\n",
    "mr.Markdown(text=f'#<font color=\"black\">Yearly Payment</font>')\n",
    "mr.NumberBox([\n",
    "    mr.NumberBox(data=float(f\"{single_premium:.2f}\"), title=f\"Single premium ({currency.value})\", background_color=colors[0], border_color=colors[1], data_color=colors[1], title_color=colors[1]),\n",
    "    mr.NumberBox(data=float(f\"{annual_premium:.2f}\"), title=f\"Annual premium ({currency.value})\", background_color=colors[0], border_color=colors[1], data_color=colors[1], title_color=colors[1]),\n",
    "    mr.NumberBox(data=float(f\"{annuity_factor_calc:.3f}\"), title=\"Annuity factor\")\n",
    "])"
   ],
   "id": "486108e24b2218f5",
   "outputs": [
    {
     "data": {
      "text/plain": [
       "<IPython.core.display.Markdown object>"
      ],
      "text/markdown": "#<font color=\"black\">Yearly Payment</font>"
     },
     "metadata": {},
     "output_type": "display_data"
    },
    {
     "data": {
      "text/plain": [
       "<widgets.numberbox.NumberBox at 0x1dc38f13530>"
      ],
      "text/html": [
       "<style scoped>\n",
       "        .numberbox-container {\n",
       "        width: 100%;\n",
       "        display: flex;\n",
       "        flex-direction: row;\n",
       "        }\n",
       "        @media (max-width: 800px) {\n",
       "        .numberbox-container {\n",
       "            flex-direction: column;\n",
       "        }\n",
       "        }\n",
       "        </style><div class=\"numberbox-container\" style=\"display: flex; background: #fff;\">\n",
       "<div style=\"text-align: center; width: 100%; border: 1px solid green; margin-right: 15px; margin-top: 15px; padding-top: 40px; padding-bottom: 30px; background: #F8F9FA; border-radius:5px\">\n",
       "  <span style=\"font-size: 4em; color: green; font-family: monospace; \">2,914.63</span>\n",
       "  \n",
       "  <span style=\"font-size: 2em; color: green; display: block; padding-top: 20px; font-family: monospace; line-height: 1.3em;\">Single premium (EUR)</span>\n",
       "</div>\n",
       "  \n",
       "<div style=\"text-align: center; width: 100%; border: 1px solid lightgray; margin-right: 15px; margin-top: 15px; padding-top: 40px; padding-bottom: 30px; background: white; border-radius:5px\">\n",
       "  <span style=\"font-size: 4em; color: black; font-family: monospace; \">157.39</span>\n",
       "  \n",
       "  <span style=\"font-size: 2em; color: gray; display: block; padding-top: 20px; font-family: monospace; line-height: 1.3em;\">Annual premium (EUR)</span>\n",
       "</div>\n",
       "  \n",
       "<div style=\"text-align: center; width: 100%; border: 1px solid lightgray; margin-right: 0px; margin-top: 15px; padding-top: 40px; padding-bottom: 30px; background: white; border-radius:5px\">\n",
       "  <span style=\"font-size: 4em; color: black; font-family: monospace; \">18.518</span>\n",
       "  \n",
       "  <span style=\"font-size: 2em; color: gray; display: block; padding-top: 20px; font-family: monospace; line-height: 1.3em;\">Annuity factor</span>\n",
       "</div>\n",
       "  </div>"
      ]
     },
     "execution_count": 74,
     "metadata": {},
     "output_type": "execute_result"
    }
   ],
   "execution_count": 74
  },
  {
   "metadata": {
    "ExecuteTime": {
     "end_time": "2025-02-19T16:14:14.236826Z",
     "start_time": "2025-02-19T16:14:14.227784Z"
    }
   },
   "cell_type": "code",
   "source": [
    "mr.Markdown(text=f'#<font color=\"black\">Monthly Payment</font>')\n",
    "mr.NumberBox([\n",
    "    mr.NumberBox(data=float(f\"{monthly_premium:.2f}\"), title=f\"Monthly premium ({currency.value})\"),\n",
    "    mr.NumberBox(data=float(f\"{monthly_annual_premium:.2f}\"), title=f\"Annual premium ({currency.value})\"),\n",
    "    mr.NumberBox(data=float(f\"{monthly_annuity_factor:.3f}\"), title=\"Annuity factor\")\n",
    "])"
   ],
   "id": "860ca544a9cd0aba",
   "outputs": [
    {
     "data": {
      "text/plain": [
       "<IPython.core.display.Markdown object>"
      ],
      "text/markdown": "#<font color=\"black\">Monthly Payment</font>"
     },
     "metadata": {},
     "output_type": "display_data"
    },
    {
     "data": {
      "text/plain": [
       "<widgets.numberbox.NumberBox at 0x1dc3a0e30b0>"
      ],
      "text/html": [
       "<style scoped>\n",
       "        .numberbox-container {\n",
       "        width: 100%;\n",
       "        display: flex;\n",
       "        flex-direction: row;\n",
       "        }\n",
       "        @media (max-width: 800px) {\n",
       "        .numberbox-container {\n",
       "            flex-direction: column;\n",
       "        }\n",
       "        }\n",
       "        </style><div class=\"numberbox-container\" style=\"display: flex; background: #fff;\">\n",
       "<div style=\"text-align: center; width: 100%; border: 1px solid lightgray; margin-right: 15px; margin-top: 15px; padding-top: 40px; padding-bottom: 30px; background: white; border-radius:5px\">\n",
       "  <span style=\"font-size: 4em; color: black; font-family: monospace; \">13.28</span>\n",
       "  \n",
       "  <span style=\"font-size: 2em; color: gray; display: block; padding-top: 20px; font-family: monospace; line-height: 1.3em;\">Monthly premium (EUR)</span>\n",
       "</div>\n",
       "  \n",
       "<div style=\"text-align: center; width: 100%; border: 1px solid lightgray; margin-right: 15px; margin-top: 15px; padding-top: 40px; padding-bottom: 30px; background: white; border-radius:5px\">\n",
       "  <span style=\"font-size: 4em; color: black; font-family: monospace; \">159.33</span>\n",
       "  \n",
       "  <span style=\"font-size: 2em; color: gray; display: block; padding-top: 20px; font-family: monospace; line-height: 1.3em;\">Annual premium (EUR)</span>\n",
       "</div>\n",
       "  \n",
       "<div style=\"text-align: center; width: 100%; border: 1px solid lightgray; margin-right: 0px; margin-top: 15px; padding-top: 40px; padding-bottom: 30px; background: white; border-radius:5px\">\n",
       "  <span style=\"font-size: 4em; color: black; font-family: monospace; \">18.293</span>\n",
       "  \n",
       "  <span style=\"font-size: 2em; color: gray; display: block; padding-top: 20px; font-family: monospace; line-height: 1.3em;\">Annuity factor</span>\n",
       "</div>\n",
       "  </div>"
      ]
     },
     "execution_count": 75,
     "metadata": {},
     "output_type": "execute_result"
    }
   ],
   "execution_count": 75
  },
  {
   "metadata": {
    "ExecuteTime": {
     "end_time": "2025-02-19T16:14:14.271897Z",
     "start_time": "2025-02-19T16:14:14.255987Z"
    }
   },
   "cell_type": "code",
   "source": [
    "# Balance sheet for year 1\n",
    "# Sum of Assets and Liability should be equal\n",
    "\n",
    "# Assets\n",
    "balance_sheet_annual_premium = annual_premium\n",
    "balance_sheet_interest = balance_sheet_annual_premium * interest_rate.value / 100\n",
    "balance_sheet_sum_of_assets = balance_sheet_annual_premium + balance_sheet_interest\n",
    "\n",
    "# Liability\n",
    "balance_sheet_claims = remaining_amount[12] * (1 - mortality_data[age.value + 1 ] / mortality_data[age.value])\n",
    "balance_sheet_recurrence = (0 + balance_sheet_annual_premium - remaining_amount[12] * (1 / (1 + interest_rate.value / 100)) * n_1qx(age.value+12/12-1, 0)) / ((1 / (1 + interest_rate.value / 100)) * (1 -  n_1qx(age.value+12/12-1, 0)))\n",
    "balance_sheet_reserves = balance_sheet_recurrence * mortality_data[age.value + 1 ] / mortality_data[age.value]\n",
    "balance_sheet_sum_of_liabilities = balance_sheet_claims + balance_sheet_reserves\n",
    "\n",
    "'''\n",
    "print(f\"Claims: {balance_sheet_claims:.2f} {currency.value}\")\n",
    "print(f\"Recurrence: {balance_sheet_recurrence:.5f} {currency.value}\")\n",
    "print(f\"Reserves: {balance_sheet_reserves:.4f} {currency.value}\")\n",
    "'''\n",
    "\n",
    "# Validation check: assets should be equal to liabilities\n",
    "if balance_sheet_sum_of_assets - balance_sheet_sum_of_liabilities > tolerance:\n",
    "    mr.Markdown(text=f'#<font color=\"red\">ERROR: The difference between the assets and the liabilities are greater than the tolerance.</font>')\n",
    "\n",
    "mr.Markdown(text=f'#<font color=\"black\">Balance Sheet for Year 1</font>')\n",
    "\n",
    "df = pd.DataFrame(\n",
    "    {\n",
    "        \"Assets\": [\"Annual Premium*\", \"Interest (financial income)\", \"Opening\", \"Sum of Assets\"],\n",
    "        \"Assets Value\": [\n",
    "            f\"{float(balance_sheet_annual_premium):.2f} {currency.value}\",\n",
    "            f\"{float(balance_sheet_interest):.2f} {currency.value}\",\n",
    "            f\"{float(0):.2f} {currency.value}\",\n",
    "            f\"{float(balance_sheet_sum_of_assets):.2f} {currency.value}\"\n",
    "        ],\n",
    "        \"Liability\": [\"Claims\", \"Premium Reserves\", \"\", \"Sum of Liabilities\"],\n",
    "        \"Liability Value\": [\n",
    "            f\"{float(balance_sheet_claims):.2f} {currency.value}\",\n",
    "            f\"{float(balance_sheet_reserves):.2f} {currency.value}\",\n",
    "            \"\",\n",
    "            f\"{float(balance_sheet_sum_of_liabilities):.2f} {currency.value}\"\n",
    "        ]\n",
    "    }\n",
    ")\n",
    "\n",
    "mr.Table(data=df, width=\"150px\", text_align=\"left\")"
   ],
   "id": "bd5de0c3e381251a",
   "outputs": [
    {
     "data": {
      "text/plain": [
       "<IPython.core.display.Markdown object>"
      ],
      "text/markdown": "#<font color=\"black\">Balance Sheet for Year 1</font>"
     },
     "metadata": {},
     "output_type": "display_data"
    },
    {
     "data": {
      "text/plain": [
       "<IPython.core.display.HTML object>"
      ],
      "text/html": [
       "<table id=\"itables_82d247bc_df32_453a_b3e3_e921899a7ef2\" class=\"display cell-border\" data-quarto-disable-processing=\"true\" style=\"table-layout:auto;width:auto;margin:auto;caption-side:bottom\">\n",
       "<thead>\n",
       "    <tr style=\"text-align: right;\">\n",
       "      \n",
       "      <th>Assets</th>\n",
       "      <th>Assets Value</th>\n",
       "      <th>Liability</th>\n",
       "      <th>Liability Value</th>\n",
       "    </tr>\n",
       "  </thead><tbody><tr>\n",
       "<td style=\"vertical-align:middle; text-align:left\">\n",
       "<a href=https://mwouts.github.io/itables/><svg class=\"main-svg\" xmlns=\"http://www.w3.org/2000/svg\" xmlns:xlink=\"http://www.w3.org/1999/xlink\"\n",
       "width=\"64\" viewBox=\"0 0 500 400\" style=\"font-family: 'Droid Sans', sans-serif;\">\n",
       "    <g style=\"fill:#d9d7fc\">\n",
       "        <path d=\"M100,400H500V357H100Z\" />\n",
       "        <path d=\"M100,300H400V257H100Z\" />\n",
       "        <path d=\"M0,200H400V157H0Z\" />\n",
       "        <path d=\"M100,100H500V57H100Z\" />\n",
       "        <path d=\"M100,350H500V307H100Z\" />\n",
       "        <path d=\"M100,250H400V207H100Z\" />\n",
       "        <path d=\"M0,150H400V107H0Z\" />\n",
       "        <path d=\"M100,50H500V7H100Z\" />\n",
       "    </g>\n",
       "    <g style=\"fill:#1a1366;stroke:#1a1366;\">\n",
       "   <rect x=\"100\" y=\"7\" width=\"400\" height=\"43\">\n",
       "    <animate\n",
       "      attributeName=\"width\"\n",
       "      values=\"0;400;0\"\n",
       "      dur=\"5s\"\n",
       "      repeatCount=\"indefinite\" />\n",
       "      <animate\n",
       "      attributeName=\"x\"\n",
       "      values=\"100;100;500\"\n",
       "      dur=\"5s\"\n",
       "      repeatCount=\"indefinite\" />\n",
       "  </rect>\n",
       "        <rect x=\"0\" y=\"107\" width=\"400\" height=\"43\">\n",
       "    <animate\n",
       "      attributeName=\"width\"\n",
       "      values=\"0;400;0\"\n",
       "      dur=\"3.5s\"\n",
       "      repeatCount=\"indefinite\" />\n",
       "    <animate\n",
       "      attributeName=\"x\"\n",
       "      values=\"0;0;400\"\n",
       "      dur=\"3.5s\"\n",
       "      repeatCount=\"indefinite\" />\n",
       "  </rect>\n",
       "        <rect x=\"100\" y=\"207\" width=\"300\" height=\"43\">\n",
       "    <animate\n",
       "      attributeName=\"width\"\n",
       "      values=\"0;300;0\"\n",
       "      dur=\"3s\"\n",
       "      repeatCount=\"indefinite\" />\n",
       "    <animate\n",
       "      attributeName=\"x\"\n",
       "      values=\"100;100;400\"\n",
       "      dur=\"3s\"\n",
       "      repeatCount=\"indefinite\" />\n",
       "  </rect>\n",
       "        <rect x=\"100\" y=\"307\" width=\"400\" height=\"43\">\n",
       "    <animate\n",
       "      attributeName=\"width\"\n",
       "      values=\"0;400;0\"\n",
       "      dur=\"4s\"\n",
       "      repeatCount=\"indefinite\" />\n",
       "      <animate\n",
       "      attributeName=\"x\"\n",
       "      values=\"100;100;500\"\n",
       "      dur=\"4s\"\n",
       "      repeatCount=\"indefinite\" />\n",
       "  </rect>\n",
       "        <g style=\"fill:transparent;stroke-width:8; stroke-linejoin:round\" rx=\"5\">\n",
       "            <g transform=\"translate(45 50) rotate(-45)\">\n",
       "                <circle r=\"33\" cx=\"0\" cy=\"0\" />\n",
       "                <rect x=\"-8\" y=\"32\" width=\"16\" height=\"30\" />\n",
       "            </g>\n",
       "\n",
       "            <g transform=\"translate(450 152)\">\n",
       "                <polyline points=\"-15,-20 -35,-20 -35,40 25,40 25,20\" />\n",
       "                <rect x=\"-15\" y=\"-40\" width=\"60\" height=\"60\" />\n",
       "            </g>\n",
       "\n",
       "            <g transform=\"translate(50 352)\">\n",
       "                <polygon points=\"-35,-5 0,-40 35,-5\" />\n",
       "                <polygon points=\"-35,10 0,45 35,10\" />\n",
       "            </g>\n",
       "\n",
       "            <g transform=\"translate(75 250)\">\n",
       "                <polyline points=\"-30,30 -60,0 -30,-30\" />\n",
       "                <polyline points=\"0,30 -30,0 0,-30\" />\n",
       "            </g>\n",
       "\n",
       "            <g transform=\"translate(425 250) rotate(180)\">\n",
       "                <polyline points=\"-30,30 -60,0 -30,-30\" />\n",
       "                <polyline points=\"0,30 -30,0 0,-30\" />\n",
       "            </g>\n",
       "        </g>\n",
       "    </g>\n",
       "</svg>\n",
       "</a>\n",
       "Loading ITables v2.2.4 from the internet...\n",
       "(need <a href=https://mwouts.github.io/itables/troubleshooting.html>help</a>?)</td>\n",
       "</tr></tbody>\n",
       "</table>\n",
       "<link href=\"https://www.unpkg.com/dt_for_itables@2.0.13/dt_bundle.css\" rel=\"stylesheet\">\n",
       "<script type=\"module\">\n",
       "    import {DataTable, jQuery as $} from 'https://www.unpkg.com/dt_for_itables@2.0.13/dt_bundle.js';\n",
       "\n",
       "    document.querySelectorAll(\"#itables_82d247bc_df32_453a_b3e3_e921899a7ef2:not(.dataTable)\").forEach(table => {\n",
       "        if (!(table instanceof HTMLTableElement))\n",
       "            return;\n",
       "\n",
       "        // Define the table data\n",
       "        const data = [[\"Annual Premium*\", \"157.39 EUR\", \"Claims\", \"233.33 EUR\"], [\"Interest (financial income)\", \"3.93 EUR\", \"Premium Reserves\", \"-72.00 EUR\"], [\"Opening\", \"0.00 EUR\", \"\", \"\"], [\"Sum of Assets\", \"161.33 EUR\", \"Sum of Liabilities\", \"161.33 EUR\"]];\n",
       "\n",
       "        // Define the dt_args\n",
       "        let dt_args = {\"columnDefs\": [{\"className\": \"dt-left\", \"width\": \"150px\", \"targets\": \"_all\"}], \"layout\": {\"topStart\": null, \"topEnd\": null, \"bottomStart\": null, \"bottomEnd\": null}, \"order\": [], \"warn_on_selected_rows_not_rendered\": true};\n",
       "        dt_args[\"data\"] = data;\n",
       "\n",
       "        \n",
       "        new DataTable(table, dt_args);\n",
       "    });\n",
       "</script>\n"
      ]
     },
     "metadata": {},
     "output_type": "display_data"
    }
   ],
   "execution_count": 76
  },
  {
   "metadata": {
    "ExecuteTime": {
     "end_time": "2025-02-19T16:14:14.292969Z",
     "start_time": "2025-02-19T16:14:14.286574Z"
    }
   },
   "cell_type": "code",
   "source": "print(\"* We are using annual premium with yearly payment for balance sheet calculations.\")",
   "id": "32edd5286002808b",
   "outputs": [
    {
     "name": "stdout",
     "output_type": "stream",
     "text": [
      "* We are using annual premium with yearly payment for balance sheet calculations.\n"
     ]
    }
   ],
   "execution_count": 77
  },
  {
   "metadata": {
    "ExecuteTime": {
     "end_time": "2025-02-19T16:14:14.312410Z",
     "start_time": "2025-02-19T16:14:14.307494Z"
    }
   },
   "cell_type": "code",
   "source": "",
   "id": "4707d7edac093477",
   "outputs": [],
   "execution_count": null
  }
 ],
 "metadata": {
  "kernelspec": {
   "display_name": "Python 3",
   "language": "python",
   "name": "python3"
  },
  "language_info": {
   "codemirror_mode": {
    "name": "ipython",
    "version": 2
   },
   "file_extension": ".py",
   "mimetype": "text/x-python",
   "name": "python",
   "nbconvert_exporter": "python",
   "pygments_lexer": "ipython2",
   "version": "2.7.6"
  }
 },
 "nbformat": 4,
 "nbformat_minor": 5
}
